{
 "cells": [
  {
   "cell_type": "code",
   "execution_count": 1,
   "id": "afe92546",
   "metadata": {},
   "outputs": [
    {
     "name": "stderr",
     "output_type": "stream",
     "text": [
      "2023-02-25 16:20:15.637792: I tensorflow/core/platform/cpu_feature_guard.cc:193] This TensorFlow binary is optimized with oneAPI Deep Neural Network Library (oneDNN) to use the following CPU instructions in performance-critical operations:  AVX2 AVX512F AVX512_VNNI FMA\n",
      "To enable them in other operations, rebuild TensorFlow with the appropriate compiler flags.\n",
      "2023-02-25 16:20:16.066193: I tensorflow/core/util/port.cc:104] oneDNN custom operations are on. You may see slightly different numerical results due to floating-point round-off errors from different computation orders. To turn them off, set the environment variable `TF_ENABLE_ONEDNN_OPTS=0`.\n",
      "2023-02-25 16:20:16.182670: W tensorflow/compiler/xla/stream_executor/platform/default/dso_loader.cc:64] Could not load dynamic library 'libcudart.so.11.0'; dlerror: libcudart.so.11.0: cannot open shared object file: No such file or directory; LD_LIBRARY_PATH: /home/stuart/.pyenv/versions/3.10.6/envs/lewagon/lib/python3.10/site-packages/cv2/../../lib64:\n",
      "2023-02-25 16:20:16.182686: I tensorflow/compiler/xla/stream_executor/cuda/cudart_stub.cc:29] Ignore above cudart dlerror if you do not have a GPU set up on your machine.\n",
      "2023-02-25 16:20:17.559830: W tensorflow/compiler/xla/stream_executor/platform/default/dso_loader.cc:64] Could not load dynamic library 'libnvinfer.so.7'; dlerror: libnvinfer.so.7: cannot open shared object file: No such file or directory; LD_LIBRARY_PATH: /home/stuart/.pyenv/versions/3.10.6/envs/lewagon/lib/python3.10/site-packages/cv2/../../lib64:\n",
      "2023-02-25 16:20:17.559908: W tensorflow/compiler/xla/stream_executor/platform/default/dso_loader.cc:64] Could not load dynamic library 'libnvinfer_plugin.so.7'; dlerror: libnvinfer_plugin.so.7: cannot open shared object file: No such file or directory; LD_LIBRARY_PATH: /home/stuart/.pyenv/versions/3.10.6/envs/lewagon/lib/python3.10/site-packages/cv2/../../lib64:\n",
      "2023-02-25 16:20:17.559913: W tensorflow/compiler/tf2tensorrt/utils/py_utils.cc:38] TF-TRT Warning: Cannot dlopen some TensorRT libraries. If you would like to use Nvidia GPU with TensorRT, please make sure the missing libraries mentioned above are installed properly.\n"
     ]
    }
   ],
   "source": [
    "\n",
    "import os\n",
    "\n",
    "import cv2\n",
    "import mediapipe as mp\n",
    "from sklearn.preprocessing import LabelEncoder\n",
    "from tensorflow.keras import utils\n",
    "from sklearn.model_selection import train_test_split\n",
    "import numpy as np"
   ]
  },
  {
   "cell_type": "code",
   "execution_count": null,
   "id": "787ff51a",
   "metadata": {},
   "outputs": [],
   "source": []
  },
  {
   "cell_type": "code",
   "execution_count": 2,
   "id": "1782bf8e",
   "metadata": {},
   "outputs": [],
   "source": [
    "dir = 'raw_data/asl_alphabet_train/asl_alphabet_train'"
   ]
  },
  {
   "cell_type": "code",
   "execution_count": 3,
   "id": "2df6e871",
   "metadata": {},
   "outputs": [],
   "source": [
    "def get_images(directory):\n",
    "    \"\"\"get images local if in same directory as collab notebook\"\"\"\n",
    "    images = []\n",
    "    labels = []\n",
    "\n",
    "    directory_list = sorted(os.listdir(directory))\n",
    "    for i in range(len(directory_list)):\n",
    "        # print(f\"Getting images of {directory_list[i]}:\")\n",
    "        for image in os.listdir(directory + \"/\" + directory_list[i])[:10]:\n",
    "            img = cv2.imread(directory + \"/\" + directory_list[i] + \"/\" + image)\n",
    "            # print(img.shape)\n",
    "            # img = crop_image(image)\n",
    "            img = cv2.resize(img, (28, 28))\n",
    "            images.append(img)\n",
    "            labels.append(directory_list[i])\n",
    "        # print(f\"Got images of {directory_list[i]}: {len(images)}\")\n",
    "    return images, labels"
   ]
  },
  {
   "cell_type": "code",
   "execution_count": 4,
   "id": "ec89da49",
   "metadata": {},
   "outputs": [],
   "source": [
    "X, y = get_images(dir)"
   ]
  },
  {
   "cell_type": "code",
   "execution_count": 5,
   "id": "cd95518e",
   "metadata": {},
   "outputs": [],
   "source": [
    "def preprocessing(X, y):\n",
    "    \"\"\"Normalise our images and categorically encode our labels\"\"\"\n",
    "    LE = LabelEncoder()\n",
    "    X = np.array(X)\n",
    "    # X = X.reshape(-1, 28, 28, 3)\n",
    "    X = X/255\n",
    "    y = LE.fit_transform(y)\n",
    "    y = utils.to_categorical(y, num_classes = 29)\n",
    "    return X, y"
   ]
  },
  {
   "cell_type": "code",
   "execution_count": 6,
   "id": "7a79bb84",
   "metadata": {},
   "outputs": [],
   "source": [
    "X, y = preprocessing(X, y)"
   ]
  },
  {
   "cell_type": "code",
   "execution_count": 7,
   "id": "e98d3934",
   "metadata": {},
   "outputs": [],
   "source": [
    "import numpy as np\n",
    "\n",
    "from tensorflow.keras.models import Sequential\n",
    "from tensorflow.keras.layers import Dense, Dropout, Flatten, Conv2D, MaxPooling2D\n",
    "from tensorflow.keras.callbacks import EarlyStopping"
   ]
  },
  {
   "cell_type": "code",
   "execution_count": 8,
   "id": "1b10376c",
   "metadata": {},
   "outputs": [],
   "source": [
    "def initiate_model():\n",
    "    model = Sequential()\n",
    "\n",
    "    model.add(Conv2D(128, (3, 3), padding='same', input_shape = (28, 28, 3), activation='relu'))\n",
    "    model.add(Conv2D(128, (3, 3), padding='same', activation='relu'))\n",
    "    model.add(MaxPooling2D(pool_size=(2, 2)))\n",
    "    #model.add(BatchNormalization())\n",
    "    model.add(Dropout(0.2))\n",
    "\n",
    "    # model.add(Conv2D(256, (3, 3), padding='same', activation='relu'))\n",
    "    # model.add(Conv2D(256, (3, 3), padding='same', activation='relu'))\n",
    "    # model.add(MaxPooling2D(pool_size=(2, 2)))\n",
    "    # #model.add(BatchNormalization())\n",
    "    # model.add(Dropout(0.2))\n",
    "\n",
    "    # model.add(Conv2D(512, (3, 3), padding='same', activation='relu'))\n",
    "    # model.add(Conv2D(512, (3, 3), padding='same', activation='relu'))\n",
    "    # model.add(MaxPooling2D(pool_size=(2, 2)))\n",
    "    # #model.add(BatchNormalization())\n",
    "    # model.add(Dropout(0.2))\n",
    "\n",
    "    model.add(Flatten())\n",
    "    model.add(Dense(2048, activation='relu'))\n",
    "    model.add(Dropout(0.2))\n",
    "    model.add(Dense(29, activation='softmax'))\n",
    "\n",
    "    return model\n",
    "\n",
    "def compile_model(model):\n",
    "    model.compile(optimizer=\"adam\", loss='categorical_crossentropy', metrics=['accuracy'])\n",
    "    return model\n",
    "\n",
    "def train_model(model, X_train, y_train):\n",
    "    es = EarlyStopping(patience = 3, restore_best_weights = True)\n",
    "    history = model.fit(X_train,\n",
    "                y_train,\n",
    "                batch_size = 512,\n",
    "                epochs=25,\n",
    "                validation_split = 0.2,\n",
    "                callbacks = [es],\n",
    "                verbose=1)\n",
    "\n",
    "    return model, history\n",
    "\n",
    "def evaluate_model(model, X_test, y_test):\n",
    "    accuracy = model.evaluate(X_test, y_test)\n",
    "    return accuracy[1]\n"
   ]
  },
  {
   "cell_type": "code",
   "execution_count": null,
   "id": "013ddab8",
   "metadata": {},
   "outputs": [
    {
     "name": "stderr",
     "output_type": "stream",
     "text": [
      "2023-02-25 16:20:20.680870: W tensorflow/compiler/xla/stream_executor/platform/default/dso_loader.cc:64] Could not load dynamic library 'libcuda.so.1'; dlerror: libcuda.so.1: cannot open shared object file: No such file or directory; LD_LIBRARY_PATH: /home/stuart/.pyenv/versions/3.10.6/envs/lewagon/lib/python3.10/site-packages/cv2/../../lib64:\n",
      "2023-02-25 16:20:20.681606: W tensorflow/compiler/xla/stream_executor/cuda/cuda_driver.cc:265] failed call to cuInit: UNKNOWN ERROR (303)\n",
      "2023-02-25 16:20:20.681627: I tensorflow/compiler/xla/stream_executor/cuda/cuda_diagnostics.cc:156] kernel driver does not appear to be running on this host (LAPTOP-2PJA6S06): /proc/driver/nvidia/version does not exist\n",
      "2023-02-25 16:20:20.683574: I tensorflow/core/platform/cpu_feature_guard.cc:193] This TensorFlow binary is optimized with oneAPI Deep Neural Network Library (oneDNN) to use the following CPU instructions in performance-critical operations:  AVX2 AVX512F AVX512_VNNI FMA\n",
      "To enable them in other operations, rebuild TensorFlow with the appropriate compiler flags.\n"
     ]
    },
    {
     "name": "stdout",
     "output_type": "stream",
     "text": [
      "step 3 done\n",
      "step 4 done\n",
      "Epoch 1/25\n",
      "1/1 [==============================] - 2s 2s/step - loss: 3.3821 - accuracy: 0.0388 - val_loss: 8.7512 - val_accuracy: 0.0000e+00\n",
      "Epoch 2/25\n",
      "1/1 [==============================] - ETA: 0s - loss: 3.2955 - accuracy: 0.0991"
     ]
    }
   ],
   "source": [
    "model = initiate_model()\n",
    "\n",
    "print('step 3 done')\n",
    "\n",
    "model = compile_model(model)\n",
    "\n",
    "print('step 4 done')\n",
    "\n",
    "model, history = train_model(model, X, y)\n"
   ]
  },
  {
   "cell_type": "code",
   "execution_count": null,
   "id": "3428e492",
   "metadata": {},
   "outputs": [],
   "source": []
  },
  {
   "cell_type": "code",
   "execution_count": null,
   "id": "cf58c8fc",
   "metadata": {},
   "outputs": [],
   "source": []
  }
 ],
 "metadata": {
  "kernelspec": {
   "display_name": "Python 3 (ipykernel)",
   "language": "python",
   "name": "python3"
  },
  "language_info": {
   "codemirror_mode": {
    "name": "ipython",
    "version": 3
   },
   "file_extension": ".py",
   "mimetype": "text/x-python",
   "name": "python",
   "nbconvert_exporter": "python",
   "pygments_lexer": "ipython3",
   "version": "3.10.6"
  },
  "toc": {
   "base_numbering": 1,
   "nav_menu": {},
   "number_sections": true,
   "sideBar": true,
   "skip_h1_title": false,
   "title_cell": "Table of Contents",
   "title_sidebar": "Contents",
   "toc_cell": false,
   "toc_position": {},
   "toc_section_display": true,
   "toc_window_display": false
  }
 },
 "nbformat": 4,
 "nbformat_minor": 5
}
