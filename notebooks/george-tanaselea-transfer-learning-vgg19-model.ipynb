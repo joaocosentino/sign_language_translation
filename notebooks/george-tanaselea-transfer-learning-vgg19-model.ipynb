{
 "cells": [
  {
   "cell_type": "markdown",
   "id": "06c0892c",
   "metadata": {},
   "source": [
    "# Library Imports"
   ]
  },
  {
   "cell_type": "code",
   "execution_count": 1,
   "id": "2c9cc4eb",
   "metadata": {},
   "outputs": [
    {
     "name": "stderr",
     "output_type": "stream",
     "text": [
      "objc[65944]: Class CaptureDelegate is implemented in both /Users/georgiantanaselea/.pyenv/versions/3.10.6/envs/lewagon/lib/python3.10/site-packages/cv2/cv2.abi3.so (0x15c7765a0) and /Users/georgiantanaselea/.pyenv/versions/3.10.6/envs/lewagon/lib/python3.10/site-packages/mediapipe/.dylibs/libopencv_videoio.3.4.16.dylib (0x1372a0860). One of the two will be used. Which one is undefined.\n",
      "objc[65944]: Class CVWindow is implemented in both /Users/georgiantanaselea/.pyenv/versions/3.10.6/envs/lewagon/lib/python3.10/site-packages/cv2/cv2.abi3.so (0x15c7765f0) and /Users/georgiantanaselea/.pyenv/versions/3.10.6/envs/lewagon/lib/python3.10/site-packages/mediapipe/.dylibs/libopencv_highgui.3.4.16.dylib (0x127feca68). One of the two will be used. Which one is undefined.\n",
      "objc[65944]: Class CVView is implemented in both /Users/georgiantanaselea/.pyenv/versions/3.10.6/envs/lewagon/lib/python3.10/site-packages/cv2/cv2.abi3.so (0x15c776618) and /Users/georgiantanaselea/.pyenv/versions/3.10.6/envs/lewagon/lib/python3.10/site-packages/mediapipe/.dylibs/libopencv_highgui.3.4.16.dylib (0x127feca90). One of the two will be used. Which one is undefined.\n",
      "objc[65944]: Class CVSlider is implemented in both /Users/georgiantanaselea/.pyenv/versions/3.10.6/envs/lewagon/lib/python3.10/site-packages/cv2/cv2.abi3.so (0x15c776640) and /Users/georgiantanaselea/.pyenv/versions/3.10.6/envs/lewagon/lib/python3.10/site-packages/mediapipe/.dylibs/libopencv_highgui.3.4.16.dylib (0x127fecab8). One of the two will be used. Which one is undefined.\n"
     ]
    }
   ],
   "source": [
    "import os\n",
    "import cv2\n",
    "import numpy as np\n",
    "\n",
    "# Data Visualisation\n",
    "import matplotlib.pyplot as plt\n",
    "\n",
    "#Preprocessing\n",
    "import mediapipe as mp\n",
    "from sklearn.model_selection import train_test_split\n",
    "from sklearn.preprocessing import LabelEncoder\n",
    "from tensorflow.keras import utils, preprocessing\n",
    "from tensorflow.keras.preprocessing.image import array_to_img\n",
    "\n",
    "\n",
    "#Learning rate & decay\n",
    "from tensorflow.keras.optimizers.schedules import ExponentialDecay\n",
    "\n",
    "#Callbacks\n",
    "from tensorflow.keras.callbacks import EarlyStopping\n",
    "from tqdm.keras import TqdmCallback\n",
    "\n",
    "# Model Training\n",
    "from tensorflow.keras.optimizers import Adam\n",
    "from tensorflow import convert_to_tensor\n",
    "from tensorflow.keras import layers\n",
    "from tensorflow.keras.models import Sequential\n",
    "from tensorflow.keras.layers import Dense, Dropout, Flatten, Conv2D, MaxPooling2D, BatchNormalization\n",
    "from tensorflow.keras.applications import VGG19"
   ]
  },
  {
   "cell_type": "markdown",
   "id": "65c51ec7",
   "metadata": {},
   "source": [
    "# Load Data"
   ]
  },
  {
   "cell_type": "code",
   "execution_count": 2,
   "id": "fcaca117",
   "metadata": {},
   "outputs": [],
   "source": [
    "#directory with training data\n",
    "train_dir = 'raw_data/archive/asl_alphabet_train/asl_alphabet_train'"
   ]
  },
  {
   "cell_type": "code",
   "execution_count": 3,
   "id": "0296dd14",
   "metadata": {},
   "outputs": [],
   "source": [
    "def get_images(directory):\n",
    "    \"\"\"get images local and resizes them returning resized images and lables\"\"\"\n",
    "    images = []\n",
    "    labels = []\n",
    "\n",
    "    directory_list = sorted(os.listdir(directory))\n",
    "    for i in range(len(directory_list)):\n",
    "        print(f\"Getting images of {directory_list[i]}:\")\n",
    "        for image in os.listdir(directory + \"/\" + directory_list[i])[:10]:\n",
    "            img = cv2.imread(directory + \"/\" + directory_list[i] + \"/\" + image)\n",
    "            img = crop_image(img)\n",
    "            img = cv2.resize(img, (32, 32))\n",
    "            images.append(img)\n",
    "            labels.append(directory_list[i])\n",
    "            print(f\"Got images of {directory_list[i]}: {len(images)}\")\n",
    "    return images, labels"
   ]
  },
  {
   "cell_type": "markdown",
   "id": "6f1e8aef",
   "metadata": {},
   "source": [
    "# Preprocessing Data"
   ]
  },
  {
   "cell_type": "code",
   "execution_count": 5,
   "id": "7498c8ab",
   "metadata": {},
   "outputs": [],
   "source": [
    "def make_image_square(x_max, x_min, y_max, y_min):\n",
    "    '''function used as a helper function in crop images to return a square image'''\n",
    "    x_diff = x_max - x_min\n",
    "    y_diff = y_max - y_min\n",
    "\n",
    "    if y_diff > x_diff:\n",
    "\n",
    "        length_diff =  y_diff - x_diff\n",
    "\n",
    "        half_length_diff_max = round(length_diff/2)\n",
    "        half_length_diff_min = length_diff-half_length_diff_max\n",
    "\n",
    "        x_max = half_length_diff_max + x_max\n",
    "        x_min = x_min - half_length_diff_min\n",
    "\n",
    "\n",
    "    elif x_diff > y_diff:\n",
    "        length_diff =  x_diff -  y_diff\n",
    "\n",
    "        half_length_diff_max = round(length_diff/2)\n",
    "        half_length_diff_min = length_diff-half_length_diff_max\n",
    "\n",
    "        y_max = half_length_diff_max + y_max\n",
    "        y_min = y_min - half_length_diff_min\n",
    "\n",
    "\n",
    "    return x_max, x_min, y_max, y_min\n",
    "\n",
    "def crop_image(image):\n",
    "    '''a function to crop an image to just show their hands'''\n",
    "\n",
    "    mp_hands = mp.solutions.hands\n",
    "\n",
    "    mp_model = mp_hands.Hands(\n",
    "        static_image_mode=True, # only static images\n",
    "        max_num_hands=1, # max 2 hands detection\n",
    "        min_detection_confidence=0.4) # detection confidence\n",
    "\n",
    "    results = mp_model.process(cv2.cvtColor(image, cv2.COLOR_BGR2RGB))\n",
    "    h, w, c = image.shape # get image shape\n",
    "\n",
    "    hand_landmarks = results.multi_hand_landmarks\n",
    "        \n",
    "    if results.multi_hand_landmarks:\n",
    "        hand_landmarks = results.multi_hand_landmarks[0]\n",
    "        image_height, image_width, _ = image.shape\n",
    "        landmark_x = [landmark.x * image_width for landmark in hand_landmarks.landmark]\n",
    "        landmark_y = [landmark.y * image_height for landmark in hand_landmarks.landmark]\n",
    "        bbox = [min(landmark_x), min(landmark_y), max(landmark_x), max(landmark_y)]\n",
    "        crop_img = image[int(bbox[1]):int(bbox[3]), int(bbox[0]):int(bbox[2])]\n",
    "    else:\n",
    "        crop_img = image\n",
    "    pass\n",
    "\n",
    "    return crop_img\n",
    "\n",
    "\n",
    "def preprocessing(X, y):\n",
    "    \"\"\"Normalise our images and categorically encode our labels\"\"\"\n",
    "    LE = LabelEncoder()\n",
    "    X = np.array(X)\n",
    "    X = X/255\n",
    "    y = LE.fit_transform(y)\n",
    "    #y = utils.to_categorical(y, num_classes = 29)\n",
    "    return X, y\n",
    "\n",
    "def train_val_test_split(X, y):\n",
    "    \"\"\"Split the dataset into 6 different datasets to validate model performance\"\"\"\n",
    "    X_train, X_val, y_train, y_val = train_test_split(X, y, test_size = 0.4)\n",
    "    X_val, X_test, y_val, y_test = train_test_split(X_val, y_val, test_size = 0.5)\n",
    "    return X_train, X_val, X_test, y_train, y_val, y_test"
   ]
  },
  {
   "cell_type": "code",
   "execution_count": 16,
   "id": "3e3d321e",
   "metadata": {
    "scrolled": true
   },
   "outputs": [
    {
     "name": "stdout",
     "output_type": "stream",
     "text": [
      "Getting images of A:\n",
      "Got images of A: 1\n",
      "Got images of A: 2\n",
      "Got images of A: 3\n",
      "Got images of A: 4\n",
      "Got images of A: 5\n",
      "Got images of A: 6\n",
      "Got images of A: 7\n",
      "Got images of A: 8\n",
      "Got images of A: 9\n",
      "Got images of A: 10\n",
      "Getting images of B:\n",
      "Got images of B: 11\n",
      "Got images of B: 12\n",
      "Got images of B: 13\n",
      "Got images of B: 14\n",
      "Got images of B: 15\n",
      "Got images of B: 16\n",
      "Got images of B: 17\n",
      "Got images of B: 18\n",
      "Got images of B: 19\n",
      "Got images of B: 20\n",
      "Getting images of C:\n",
      "Got images of C: 21\n",
      "Got images of C: 22\n",
      "Got images of C: 23\n",
      "Got images of C: 24\n",
      "Got images of C: 25\n",
      "Got images of C: 26\n",
      "Got images of C: 27\n",
      "Got images of C: 28\n",
      "Got images of C: 29\n",
      "Got images of C: 30\n",
      "Getting images of D:\n",
      "Got images of D: 31\n",
      "Got images of D: 32\n",
      "Got images of D: 33\n",
      "Got images of D: 34\n",
      "Got images of D: 35\n",
      "Got images of D: 36\n",
      "Got images of D: 37\n",
      "Got images of D: 38\n",
      "Got images of D: 39\n",
      "Got images of D: 40\n",
      "Getting images of E:\n",
      "Got images of E: 41\n",
      "Got images of E: 42\n",
      "Got images of E: 43\n",
      "Got images of E: 44\n",
      "Got images of E: 45\n",
      "Got images of E: 46\n",
      "Got images of E: 47\n",
      "Got images of E: 48\n",
      "Got images of E: 49\n",
      "Got images of E: 50\n",
      "Getting images of F:\n",
      "Got images of F: 51\n",
      "Got images of F: 52\n",
      "Got images of F: 53\n",
      "Got images of F: 54\n",
      "Got images of F: 55\n",
      "Got images of F: 56\n",
      "Got images of F: 57\n",
      "Got images of F: 58\n",
      "Got images of F: 59\n",
      "Got images of F: 60\n",
      "Getting images of G:\n",
      "Got images of G: 61\n",
      "Got images of G: 62\n",
      "Got images of G: 63\n",
      "Got images of G: 64\n",
      "Got images of G: 65\n",
      "Got images of G: 66\n",
      "Got images of G: 67\n",
      "Got images of G: 68\n",
      "Got images of G: 69\n",
      "Got images of G: 70\n",
      "Getting images of H:\n",
      "Got images of H: 71\n",
      "Got images of H: 72\n",
      "Got images of H: 73\n",
      "Got images of H: 74\n",
      "Got images of H: 75\n",
      "Got images of H: 76\n",
      "Got images of H: 77\n",
      "Got images of H: 78\n",
      "Got images of H: 79\n",
      "Got images of H: 80\n",
      "Getting images of I:\n",
      "Got images of I: 81\n",
      "Got images of I: 82\n",
      "Got images of I: 83\n",
      "Got images of I: 84\n",
      "Got images of I: 85\n",
      "Got images of I: 86\n",
      "Got images of I: 87\n",
      "Got images of I: 88\n",
      "Got images of I: 89\n",
      "Got images of I: 90\n",
      "Getting images of J:\n",
      "Got images of J: 91\n",
      "Got images of J: 92\n",
      "Got images of J: 93\n",
      "Got images of J: 94\n",
      "Got images of J: 95\n",
      "Got images of J: 96\n",
      "Got images of J: 97\n",
      "Got images of J: 98\n",
      "Got images of J: 99\n",
      "Got images of J: 100\n",
      "Getting images of K:\n",
      "Got images of K: 101\n",
      "Got images of K: 102\n",
      "Got images of K: 103\n",
      "Got images of K: 104\n",
      "Got images of K: 105\n",
      "Got images of K: 106\n",
      "Got images of K: 107\n",
      "Got images of K: 108\n",
      "Got images of K: 109\n",
      "Got images of K: 110\n",
      "Getting images of L:\n",
      "Got images of L: 111\n",
      "Got images of L: 112\n",
      "Got images of L: 113\n",
      "Got images of L: 114\n",
      "Got images of L: 115\n",
      "Got images of L: 116\n",
      "Got images of L: 117\n",
      "Got images of L: 118\n",
      "Got images of L: 119\n",
      "Got images of L: 120\n",
      "Getting images of M:\n",
      "Got images of M: 121\n",
      "Got images of M: 122\n",
      "Got images of M: 123\n",
      "Got images of M: 124\n",
      "Got images of M: 125\n",
      "Got images of M: 126\n",
      "Got images of M: 127\n",
      "Got images of M: 128\n",
      "Got images of M: 129\n",
      "Got images of M: 130\n",
      "Getting images of N:\n",
      "Got images of N: 131\n",
      "Got images of N: 132\n",
      "Got images of N: 133\n",
      "Got images of N: 134\n",
      "Got images of N: 135\n",
      "Got images of N: 136\n",
      "Got images of N: 137\n",
      "Got images of N: 138\n",
      "Got images of N: 139\n",
      "Got images of N: 140\n",
      "Getting images of O:\n",
      "Got images of O: 141\n",
      "Got images of O: 142\n",
      "Got images of O: 143\n",
      "Got images of O: 144\n",
      "Got images of O: 145\n",
      "Got images of O: 146\n",
      "Got images of O: 147\n",
      "Got images of O: 148\n",
      "Got images of O: 149\n",
      "Got images of O: 150\n",
      "Getting images of P:\n",
      "Got images of P: 151\n",
      "Got images of P: 152\n",
      "Got images of P: 153\n",
      "Got images of P: 154\n",
      "Got images of P: 155\n",
      "Got images of P: 156\n",
      "Got images of P: 157\n",
      "Got images of P: 158\n",
      "Got images of P: 159\n",
      "Got images of P: 160\n",
      "Getting images of Q:\n",
      "Got images of Q: 161\n",
      "Got images of Q: 162\n",
      "Got images of Q: 163\n",
      "Got images of Q: 164\n",
      "Got images of Q: 165\n",
      "Got images of Q: 166\n",
      "Got images of Q: 167\n",
      "Got images of Q: 168\n",
      "Got images of Q: 169\n",
      "Got images of Q: 170\n",
      "Getting images of R:\n",
      "Got images of R: 171\n",
      "Got images of R: 172\n",
      "Got images of R: 173\n",
      "Got images of R: 174\n",
      "Got images of R: 175\n",
      "Got images of R: 176\n",
      "Got images of R: 177\n",
      "Got images of R: 178\n",
      "Got images of R: 179\n",
      "Got images of R: 180\n",
      "Getting images of S:\n",
      "Got images of S: 181\n",
      "Got images of S: 182\n",
      "Got images of S: 183\n",
      "Got images of S: 184\n",
      "Got images of S: 185\n",
      "Got images of S: 186\n",
      "Got images of S: 187\n",
      "Got images of S: 188\n",
      "Got images of S: 189\n",
      "Got images of S: 190\n",
      "Getting images of T:\n",
      "Got images of T: 191\n",
      "Got images of T: 192\n",
      "Got images of T: 193\n",
      "Got images of T: 194\n",
      "Got images of T: 195\n",
      "Got images of T: 196\n",
      "Got images of T: 197\n",
      "Got images of T: 198\n",
      "Got images of T: 199\n",
      "Got images of T: 200\n",
      "Getting images of U:\n",
      "Got images of U: 201\n",
      "Got images of U: 202\n",
      "Got images of U: 203\n",
      "Got images of U: 204\n",
      "Got images of U: 205\n",
      "Got images of U: 206\n",
      "Got images of U: 207\n",
      "Got images of U: 208\n",
      "Got images of U: 209\n",
      "Got images of U: 210\n",
      "Getting images of V:\n",
      "Got images of V: 211\n",
      "Got images of V: 212\n",
      "Got images of V: 213\n",
      "Got images of V: 214\n",
      "Got images of V: 215\n",
      "Got images of V: 216\n",
      "Got images of V: 217\n",
      "Got images of V: 218\n",
      "Got images of V: 219\n",
      "Got images of V: 220\n",
      "Getting images of W:\n",
      "Got images of W: 221\n",
      "Got images of W: 222\n",
      "Got images of W: 223\n",
      "Got images of W: 224\n",
      "Got images of W: 225\n",
      "Got images of W: 226\n",
      "Got images of W: 227\n",
      "Got images of W: 228\n",
      "Got images of W: 229\n",
      "Got images of W: 230\n",
      "Getting images of X:\n",
      "Got images of X: 231\n",
      "Got images of X: 232\n",
      "Got images of X: 233\n",
      "Got images of X: 234\n",
      "Got images of X: 235\n",
      "Got images of X: 236\n",
      "Got images of X: 237\n",
      "Got images of X: 238\n",
      "Got images of X: 239\n",
      "Got images of X: 240\n",
      "Getting images of Y:\n",
      "Got images of Y: 241\n",
      "Got images of Y: 242\n",
      "Got images of Y: 243\n",
      "Got images of Y: 244\n",
      "Got images of Y: 245\n",
      "Got images of Y: 246\n",
      "Got images of Y: 247\n",
      "Got images of Y: 248\n",
      "Got images of Y: 249\n",
      "Got images of Y: 250\n",
      "Getting images of Z:\n",
      "Got images of Z: 251\n",
      "Got images of Z: 252\n",
      "Got images of Z: 253\n",
      "Got images of Z: 254\n",
      "Got images of Z: 255\n",
      "Got images of Z: 256\n",
      "Got images of Z: 257\n",
      "Got images of Z: 258\n",
      "Got images of Z: 259\n",
      "Got images of Z: 260\n",
      "Getting images of del:\n",
      "Got images of del: 261\n",
      "Got images of del: 262\n",
      "Got images of del: 263\n",
      "Got images of del: 264\n",
      "Got images of del: 265\n",
      "Got images of del: 266\n",
      "Got images of del: 267\n",
      "Got images of del: 268\n",
      "Got images of del: 269\n",
      "Got images of del: 270\n",
      "Getting images of nothing:\n",
      "Got images of nothing: 271\n",
      "Got images of nothing: 272\n",
      "Got images of nothing: 273\n",
      "Got images of nothing: 274\n",
      "Got images of nothing: 275\n",
      "Got images of nothing: 276\n",
      "Got images of nothing: 277\n",
      "Got images of nothing: 278\n",
      "Got images of nothing: 279\n",
      "Got images of nothing: 280\n",
      "Getting images of space:\n",
      "Got images of space: 281\n",
      "Got images of space: 282\n",
      "Got images of space: 283\n",
      "Got images of space: 284\n",
      "Got images of space: 285\n",
      "Got images of space: 286\n",
      "Got images of space: 287\n",
      "Got images of space: 288\n",
      "Got images of space: 289\n",
      "Got images of space: 290\n"
     ]
    }
   ],
   "source": [
    "#Loading and resizing the data by calling the get_images function\n",
    "images, labels = get_images(train_dir)"
   ]
  },
  {
   "cell_type": "code",
   "execution_count": 18,
   "id": "c755efa0",
   "metadata": {},
   "outputs": [
    {
     "data": {
      "text/plain": [
       "<matplotlib.image.AxesImage at 0xda5e8b8b0>"
      ]
     },
     "execution_count": 18,
     "metadata": {},
     "output_type": "execute_result"
    },
    {
     "data": {
      "image/png": "[encoded data removed]",
      "text/plain": [
       "<Figure size 640x480 with 1 Axes>"
      ]
     },
     "metadata": {},
     "output_type": "display_data"
    }
   ],
   "source": [
    "plt.imshow(images[2])"
   ]
  },
  {
   "cell_type": "code",
   "execution_count": 15,
   "id": "1e4923fd",
   "metadata": {},
   "outputs": [
    {
     "ename": "NameError",
     "evalue": "name 'images' is not defined",
     "output_type": "error",
     "traceback": [
      "\u001b[0;31m---------------------------------------------------------------------------\u001b[0m",
      "\u001b[0;31mNameError\u001b[0m                                 Traceback (most recent call last)",
      "Cell \u001b[0;32mIn [15], line 2\u001b[0m\n\u001b[1;32m      1\u001b[0m \u001b[38;5;66;03m#Calling the train_val_test_split to get the required dataset splits to validate model performance\u001b[39;00m\n\u001b[0;32m----> 2\u001b[0m X_train, X_val, X_test, y_train, y_val, y_test \u001b[38;5;241m=\u001b[39m train_val_test_split(images, labels)\n\u001b[1;32m      3\u001b[0m X_train, y_train \u001b[38;5;241m=\u001b[39m preprocessing(X_train, y_train)\n\u001b[1;32m      4\u001b[0m X_val, y_val \u001b[38;5;241m=\u001b[39m preprocessing(X_val, y_val)\n",
      "\u001b[0;31mNameError\u001b[0m: name 'images' is not defined"
     ]
    }
   ],
   "source": [
    "#Calling the train_val_test_split to get the required dataset splits to validate model performance\n",
    "X_train, X_val, X_test, y_train, y_val, y_test = train_val_test_split(images, labels)\n",
    "X_train, y_train = preprocessing(X_train, y_train)\n",
    "X_val, y_val = preprocessing(X_val, y_val)\n",
    "X_test, y_test = preprocessing(X_test, y_test)"
   ]
  },
  {
   "cell_type": "markdown",
   "id": "e7cacc4b",
   "metadata": {},
   "source": [
    "# Model - Transfer Learning VGG19"
   ]
  },
  {
   "cell_type": "markdown",
   "id": "d6b43a82",
   "metadata": {},
   "source": [
    "## Loading VGG19 Model"
   ]
  },
  {
   "cell_type": "code",
   "execution_count": 110,
   "id": "7b667fb3",
   "metadata": {},
   "outputs": [],
   "source": [
    "def load_transfer_model():\n",
    "    model = VGG19(include_top=False,\n",
    "    weights=\"imagenet\",\n",
    "    input_shape=X_train.shape[1:])\n",
    "    return model"
   ]
  },
  {
   "cell_type": "code",
   "execution_count": 111,
   "id": "8e1e14f0",
   "metadata": {},
   "outputs": [],
   "source": [
    "def set_nontrainable_layers(model):\n",
    "    \n",
    "    model.trainable = False\n",
    "    \n",
    "    return model"
   ]
  },
  {
   "cell_type": "markdown",
   "id": "334b0b13",
   "metadata": {},
   "source": [
    "## Adding Predictive Layer and Building the Model"
   ]
  },
  {
   "cell_type": "code",
   "execution_count": 112,
   "id": "e1fbe46e",
   "metadata": {},
   "outputs": [],
   "source": [
    "def add_last_layers(model):\n",
    "    '''Take a pre-trained model, set its parameters as non-trainable, and add additional trainable layers on top'''\n",
    "    model = set_nontrainable_layers(model)\n",
    "    flattening_layer = Flatten()\n",
    "    dense_layer_1 = layers.Dense(128, activation='relu')\n",
    "    dense_layer_2 = layers.Dense(64, activation='relu')\n",
    "    dense_layer_3 = layers.Dense(32, activation='relu')\n",
    "    prediction_layer = layers.Dense(29, activation='softmax')\n",
    "    model = Sequential([\n",
    "    model,\n",
    "    flattening_layer,\n",
    "    dense_layer_1,\n",
    "    dense_layer_2,\n",
    "    dense_layer_3,\n",
    "    prediction_layer\n",
    "    ])\n",
    "    return model"
   ]
  },
  {
   "cell_type": "code",
   "execution_count": 113,
   "id": "ebfaed14",
   "metadata": {},
   "outputs": [],
   "source": [
    "#Setting up a learning rate exponential decay\n",
    "lr_schedule = ExponentialDecay(\n",
    "    0.001,\n",
    "    decay_steps=100000,\n",
    "    decay_rate=0.96,\n",
    "    staircase=True)"
   ]
  },
  {
   "cell_type": "code",
   "execution_count": 114,
   "id": "370f61ee",
   "metadata": {},
   "outputs": [],
   "source": [
    "def build_transfer_model():\n",
    "    model = load_transfer_model()\n",
    "    model = add_last_layers(model)\n",
    "    opt = Adam(learning_rate = lr_schedule)\n",
    "    model.compile(loss='sparse_categorical_crossentropy',\n",
    "              optimizer=opt,\n",
    "              metrics=['accuracy'])\n",
    "    return model"
   ]
  },
  {
   "cell_type": "code",
   "execution_count": 118,
   "id": "c4eb18a5",
   "metadata": {},
   "outputs": [],
   "source": [
    "model = build_transfer_model()"
   ]
  },
  {
   "cell_type": "code",
   "execution_count": 119,
   "id": "f8fe84a4",
   "metadata": {},
   "outputs": [
    {
     "name": "stdout",
     "output_type": "stream",
     "text": [
      "Model: \"sequential\"\n",
      "_________________________________________________________________\n",
      " Layer (type)                Output Shape              Param #   \n",
      "=================================================================\n",
      " vgg19 (Functional)          (None, 2, 2, 512)         20024384  \n",
      "                                                                 \n",
      " flatten_1 (Flatten)         (None, 2048)              0         \n",
      "                                                                 \n",
      " dense (Dense)               (None, 128)               262272    \n",
      "                                                                 \n",
      " dense_1 (Dense)             (None, 64)                8256      \n",
      "                                                                 \n",
      " dense_2 (Dense)             (None, 32)                2080      \n",
      "                                                                 \n",
      " dense_3 (Dense)             (None, 29)                957       \n",
      "                                                                 \n",
      "=================================================================\n",
      "Total params: 20,297,949\n",
      "Trainable params: 273,565\n",
      "Non-trainable params: 20,024,384\n",
      "_________________________________________________________________\n"
     ]
    }
   ],
   "source": [
    "model.summary()"
   ]
  },
  {
   "cell_type": "markdown",
   "id": "42a19c8a",
   "metadata": {},
   "source": [
    "### Defining Early Stopping"
   ]
  },
  {
   "cell_type": "code",
   "execution_count": 120,
   "id": "a14bcb52",
   "metadata": {},
   "outputs": [],
   "source": [
    "es = EarlyStopping(monitor='val_loss', mode='max', verbose=1, patience = 5, restore_best_weights = True)"
   ]
  },
  {
   "cell_type": "markdown",
   "id": "f77242a5",
   "metadata": {},
   "source": [
    "## Training Model"
   ]
  },
  {
   "cell_type": "code",
   "execution_count": 121,
   "id": "2a553f8d",
   "metadata": {
    "scrolled": true
   },
   "outputs": [
    {
     "data": {
      "application/vnd.jupyter.widget-view+json": {
       "model_id": "6aa915d365664d7a8048be01eba88c5c",
       "version_major": 2,
       "version_minor": 0
      },
      "text/plain": [
       "0epoch [00:00, ?epoch/s]"
      ]
     },
     "metadata": {},
     "output_type": "display_data"
    },
    {
     "name": "stderr",
     "output_type": "stream",
     "text": [
      "2023-02-27 07:33:50.951186: W tensorflow/core/platform/profile_utils/cpu_utils.cc:128] Failed to get CPU frequency: 0 Hz\n",
      "2023-02-27 07:33:51.288759: I tensorflow/core/grappler/optimizers/custom_graph_optimizer_registry.cc:113] Plugin optimizer for device_type GPU is enabled.\n",
      "2023-02-27 07:33:52.045615: I tensorflow/core/grappler/optimizers/custom_graph_optimizer_registry.cc:113] Plugin optimizer for device_type GPU is enabled.\n"
     ]
    },
    {
     "ename": "KeyboardInterrupt",
     "evalue": "",
     "output_type": "error",
     "traceback": [
      "\u001b[0;31m---------------------------------------------------------------------------\u001b[0m",
      "\u001b[0;31mKeyboardInterrupt\u001b[0m                         Traceback (most recent call last)",
      "Cell \u001b[0;32mIn [121], line 1\u001b[0m\n\u001b[0;32m----> 1\u001b[0m history \u001b[38;5;241m=\u001b[39m model\u001b[38;5;241m.\u001b[39mfit(X_train, y_train, validation_data \u001b[38;5;241m=\u001b[39m (X_val,y_val), epochs \u001b[38;5;241m=\u001b[39m \u001b[38;5;241m100\u001b[39m, callbacks \u001b[38;5;241m=\u001b[39m [es, TqdmCallback(verbose \u001b[38;5;241m=\u001b[39m \u001b[38;5;241m0\u001b[39m)], verbose \u001b[38;5;241m=\u001b[39m \u001b[38;5;241m0\u001b[39m, batch_size\u001b[38;5;241m=\u001b[39m\u001b[38;5;241m32\u001b[39m)\n",
      "File \u001b[0;32m~/.pyenv/versions/3.10.6/envs/lewagon/lib/python3.10/site-packages/keras/utils/traceback_utils.py:64\u001b[0m, in \u001b[0;36mfilter_traceback.<locals>.error_handler\u001b[0;34m(*args, **kwargs)\u001b[0m\n\u001b[1;32m     62\u001b[0m filtered_tb \u001b[38;5;241m=\u001b[39m \u001b[38;5;28;01mNone\u001b[39;00m\n\u001b[1;32m     63\u001b[0m \u001b[38;5;28;01mtry\u001b[39;00m:\n\u001b[0;32m---> 64\u001b[0m   \u001b[38;5;28;01mreturn\u001b[39;00m \u001b[43mfn\u001b[49m\u001b[43m(\u001b[49m\u001b[38;5;241;43m*\u001b[39;49m\u001b[43margs\u001b[49m\u001b[43m,\u001b[49m\u001b[43m \u001b[49m\u001b[38;5;241;43m*\u001b[39;49m\u001b[38;5;241;43m*\u001b[39;49m\u001b[43mkwargs\u001b[49m\u001b[43m)\u001b[49m\n\u001b[1;32m     65\u001b[0m \u001b[38;5;28;01mexcept\u001b[39;00m \u001b[38;5;167;01mException\u001b[39;00m \u001b[38;5;28;01mas\u001b[39;00m e:  \u001b[38;5;66;03m# pylint: disable=broad-except\u001b[39;00m\n\u001b[1;32m     66\u001b[0m   filtered_tb \u001b[38;5;241m=\u001b[39m _process_traceback_frames(e\u001b[38;5;241m.\u001b[39m__traceback__)\n",
      "File \u001b[0;32m~/.pyenv/versions/3.10.6/envs/lewagon/lib/python3.10/site-packages/keras/engine/training.py:1409\u001b[0m, in \u001b[0;36mModel.fit\u001b[0;34m(self, x, y, batch_size, epochs, verbose, callbacks, validation_split, validation_data, shuffle, class_weight, sample_weight, initial_epoch, steps_per_epoch, validation_steps, validation_batch_size, validation_freq, max_queue_size, workers, use_multiprocessing)\u001b[0m\n\u001b[1;32m   1402\u001b[0m \u001b[38;5;28;01mwith\u001b[39;00m tf\u001b[38;5;241m.\u001b[39mprofiler\u001b[38;5;241m.\u001b[39mexperimental\u001b[38;5;241m.\u001b[39mTrace(\n\u001b[1;32m   1403\u001b[0m     \u001b[38;5;124m'\u001b[39m\u001b[38;5;124mtrain\u001b[39m\u001b[38;5;124m'\u001b[39m,\n\u001b[1;32m   1404\u001b[0m     epoch_num\u001b[38;5;241m=\u001b[39mepoch,\n\u001b[1;32m   1405\u001b[0m     step_num\u001b[38;5;241m=\u001b[39mstep,\n\u001b[1;32m   1406\u001b[0m     batch_size\u001b[38;5;241m=\u001b[39mbatch_size,\n\u001b[1;32m   1407\u001b[0m     _r\u001b[38;5;241m=\u001b[39m\u001b[38;5;241m1\u001b[39m):\n\u001b[1;32m   1408\u001b[0m   callbacks\u001b[38;5;241m.\u001b[39mon_train_batch_begin(step)\n\u001b[0;32m-> 1409\u001b[0m   tmp_logs \u001b[38;5;241m=\u001b[39m \u001b[38;5;28;43mself\u001b[39;49m\u001b[38;5;241;43m.\u001b[39;49m\u001b[43mtrain_function\u001b[49m\u001b[43m(\u001b[49m\u001b[43miterator\u001b[49m\u001b[43m)\u001b[49m\n\u001b[1;32m   1410\u001b[0m   \u001b[38;5;28;01mif\u001b[39;00m data_handler\u001b[38;5;241m.\u001b[39mshould_sync:\n\u001b[1;32m   1411\u001b[0m     context\u001b[38;5;241m.\u001b[39masync_wait()\n",
      "File \u001b[0;32m~/.pyenv/versions/3.10.6/envs/lewagon/lib/python3.10/site-packages/tensorflow/python/util/traceback_utils.py:150\u001b[0m, in \u001b[0;36mfilter_traceback.<locals>.error_handler\u001b[0;34m(*args, **kwargs)\u001b[0m\n\u001b[1;32m    148\u001b[0m filtered_tb \u001b[38;5;241m=\u001b[39m \u001b[38;5;28;01mNone\u001b[39;00m\n\u001b[1;32m    149\u001b[0m \u001b[38;5;28;01mtry\u001b[39;00m:\n\u001b[0;32m--> 150\u001b[0m   \u001b[38;5;28;01mreturn\u001b[39;00m \u001b[43mfn\u001b[49m\u001b[43m(\u001b[49m\u001b[38;5;241;43m*\u001b[39;49m\u001b[43margs\u001b[49m\u001b[43m,\u001b[49m\u001b[43m \u001b[49m\u001b[38;5;241;43m*\u001b[39;49m\u001b[38;5;241;43m*\u001b[39;49m\u001b[43mkwargs\u001b[49m\u001b[43m)\u001b[49m\n\u001b[1;32m    151\u001b[0m \u001b[38;5;28;01mexcept\u001b[39;00m \u001b[38;5;167;01mException\u001b[39;00m \u001b[38;5;28;01mas\u001b[39;00m e:\n\u001b[1;32m    152\u001b[0m   filtered_tb \u001b[38;5;241m=\u001b[39m _process_traceback_frames(e\u001b[38;5;241m.\u001b[39m__traceback__)\n",
      "File \u001b[0;32m~/.pyenv/versions/3.10.6/envs/lewagon/lib/python3.10/site-packages/tensorflow/python/eager/def_function.py:915\u001b[0m, in \u001b[0;36mFunction.__call__\u001b[0;34m(self, *args, **kwds)\u001b[0m\n\u001b[1;32m    912\u001b[0m compiler \u001b[38;5;241m=\u001b[39m \u001b[38;5;124m\"\u001b[39m\u001b[38;5;124mxla\u001b[39m\u001b[38;5;124m\"\u001b[39m \u001b[38;5;28;01mif\u001b[39;00m \u001b[38;5;28mself\u001b[39m\u001b[38;5;241m.\u001b[39m_jit_compile \u001b[38;5;28;01melse\u001b[39;00m \u001b[38;5;124m\"\u001b[39m\u001b[38;5;124mnonXla\u001b[39m\u001b[38;5;124m\"\u001b[39m\n\u001b[1;32m    914\u001b[0m \u001b[38;5;28;01mwith\u001b[39;00m OptionalXlaContext(\u001b[38;5;28mself\u001b[39m\u001b[38;5;241m.\u001b[39m_jit_compile):\n\u001b[0;32m--> 915\u001b[0m   result \u001b[38;5;241m=\u001b[39m \u001b[38;5;28;43mself\u001b[39;49m\u001b[38;5;241;43m.\u001b[39;49m\u001b[43m_call\u001b[49m\u001b[43m(\u001b[49m\u001b[38;5;241;43m*\u001b[39;49m\u001b[43margs\u001b[49m\u001b[43m,\u001b[49m\u001b[43m \u001b[49m\u001b[38;5;241;43m*\u001b[39;49m\u001b[38;5;241;43m*\u001b[39;49m\u001b[43mkwds\u001b[49m\u001b[43m)\u001b[49m\n\u001b[1;32m    917\u001b[0m new_tracing_count \u001b[38;5;241m=\u001b[39m \u001b[38;5;28mself\u001b[39m\u001b[38;5;241m.\u001b[39mexperimental_get_tracing_count()\n\u001b[1;32m    918\u001b[0m without_tracing \u001b[38;5;241m=\u001b[39m (tracing_count \u001b[38;5;241m==\u001b[39m new_tracing_count)\n",
      "File \u001b[0;32m~/.pyenv/versions/3.10.6/envs/lewagon/lib/python3.10/site-packages/tensorflow/python/eager/def_function.py:947\u001b[0m, in \u001b[0;36mFunction._call\u001b[0;34m(self, *args, **kwds)\u001b[0m\n\u001b[1;32m    944\u001b[0m   \u001b[38;5;28mself\u001b[39m\u001b[38;5;241m.\u001b[39m_lock\u001b[38;5;241m.\u001b[39mrelease()\n\u001b[1;32m    945\u001b[0m   \u001b[38;5;66;03m# In this case we have created variables on the first call, so we run the\u001b[39;00m\n\u001b[1;32m    946\u001b[0m   \u001b[38;5;66;03m# defunned version which is guaranteed to never create variables.\u001b[39;00m\n\u001b[0;32m--> 947\u001b[0m   \u001b[38;5;28;01mreturn\u001b[39;00m \u001b[38;5;28;43mself\u001b[39;49m\u001b[38;5;241;43m.\u001b[39;49m\u001b[43m_stateless_fn\u001b[49m\u001b[43m(\u001b[49m\u001b[38;5;241;43m*\u001b[39;49m\u001b[43margs\u001b[49m\u001b[43m,\u001b[49m\u001b[43m \u001b[49m\u001b[38;5;241;43m*\u001b[39;49m\u001b[38;5;241;43m*\u001b[39;49m\u001b[43mkwds\u001b[49m\u001b[43m)\u001b[49m  \u001b[38;5;66;03m# pylint: disable=not-callable\u001b[39;00m\n\u001b[1;32m    948\u001b[0m \u001b[38;5;28;01melif\u001b[39;00m \u001b[38;5;28mself\u001b[39m\u001b[38;5;241m.\u001b[39m_stateful_fn \u001b[38;5;129;01mis\u001b[39;00m \u001b[38;5;129;01mnot\u001b[39;00m \u001b[38;5;28;01mNone\u001b[39;00m:\n\u001b[1;32m    949\u001b[0m   \u001b[38;5;66;03m# Release the lock early so that multiple threads can perform the call\u001b[39;00m\n\u001b[1;32m    950\u001b[0m   \u001b[38;5;66;03m# in parallel.\u001b[39;00m\n\u001b[1;32m    951\u001b[0m   \u001b[38;5;28mself\u001b[39m\u001b[38;5;241m.\u001b[39m_lock\u001b[38;5;241m.\u001b[39mrelease()\n",
      "File \u001b[0;32m~/.pyenv/versions/3.10.6/envs/lewagon/lib/python3.10/site-packages/tensorflow/python/eager/function.py:2453\u001b[0m, in \u001b[0;36mFunction.__call__\u001b[0;34m(self, *args, **kwargs)\u001b[0m\n\u001b[1;32m   2450\u001b[0m \u001b[38;5;28;01mwith\u001b[39;00m \u001b[38;5;28mself\u001b[39m\u001b[38;5;241m.\u001b[39m_lock:\n\u001b[1;32m   2451\u001b[0m   (graph_function,\n\u001b[1;32m   2452\u001b[0m    filtered_flat_args) \u001b[38;5;241m=\u001b[39m \u001b[38;5;28mself\u001b[39m\u001b[38;5;241m.\u001b[39m_maybe_define_function(args, kwargs)\n\u001b[0;32m-> 2453\u001b[0m \u001b[38;5;28;01mreturn\u001b[39;00m \u001b[43mgraph_function\u001b[49m\u001b[38;5;241;43m.\u001b[39;49m\u001b[43m_call_flat\u001b[49m\u001b[43m(\u001b[49m\n\u001b[1;32m   2454\u001b[0m \u001b[43m    \u001b[49m\u001b[43mfiltered_flat_args\u001b[49m\u001b[43m,\u001b[49m\u001b[43m \u001b[49m\u001b[43mcaptured_inputs\u001b[49m\u001b[38;5;241;43m=\u001b[39;49m\u001b[43mgraph_function\u001b[49m\u001b[38;5;241;43m.\u001b[39;49m\u001b[43mcaptured_inputs\u001b[49m\u001b[43m)\u001b[49m\n",
      "File \u001b[0;32m~/.pyenv/versions/3.10.6/envs/lewagon/lib/python3.10/site-packages/tensorflow/python/eager/function.py:1860\u001b[0m, in \u001b[0;36mConcreteFunction._call_flat\u001b[0;34m(self, args, captured_inputs, cancellation_manager)\u001b[0m\n\u001b[1;32m   1856\u001b[0m possible_gradient_type \u001b[38;5;241m=\u001b[39m gradients_util\u001b[38;5;241m.\u001b[39mPossibleTapeGradientTypes(args)\n\u001b[1;32m   1857\u001b[0m \u001b[38;5;28;01mif\u001b[39;00m (possible_gradient_type \u001b[38;5;241m==\u001b[39m gradients_util\u001b[38;5;241m.\u001b[39mPOSSIBLE_GRADIENT_TYPES_NONE\n\u001b[1;32m   1858\u001b[0m     \u001b[38;5;129;01mand\u001b[39;00m executing_eagerly):\n\u001b[1;32m   1859\u001b[0m   \u001b[38;5;66;03m# No tape is watching; skip to running the function.\u001b[39;00m\n\u001b[0;32m-> 1860\u001b[0m   \u001b[38;5;28;01mreturn\u001b[39;00m \u001b[38;5;28mself\u001b[39m\u001b[38;5;241m.\u001b[39m_build_call_outputs(\u001b[38;5;28;43mself\u001b[39;49m\u001b[38;5;241;43m.\u001b[39;49m\u001b[43m_inference_function\u001b[49m\u001b[38;5;241;43m.\u001b[39;49m\u001b[43mcall\u001b[49m\u001b[43m(\u001b[49m\n\u001b[1;32m   1861\u001b[0m \u001b[43m      \u001b[49m\u001b[43mctx\u001b[49m\u001b[43m,\u001b[49m\u001b[43m \u001b[49m\u001b[43margs\u001b[49m\u001b[43m,\u001b[49m\u001b[43m \u001b[49m\u001b[43mcancellation_manager\u001b[49m\u001b[38;5;241;43m=\u001b[39;49m\u001b[43mcancellation_manager\u001b[49m\u001b[43m)\u001b[49m)\n\u001b[1;32m   1862\u001b[0m forward_backward \u001b[38;5;241m=\u001b[39m \u001b[38;5;28mself\u001b[39m\u001b[38;5;241m.\u001b[39m_select_forward_and_backward_functions(\n\u001b[1;32m   1863\u001b[0m     args,\n\u001b[1;32m   1864\u001b[0m     possible_gradient_type,\n\u001b[1;32m   1865\u001b[0m     executing_eagerly)\n\u001b[1;32m   1866\u001b[0m forward_function, args_with_tangents \u001b[38;5;241m=\u001b[39m forward_backward\u001b[38;5;241m.\u001b[39mforward()\n",
      "File \u001b[0;32m~/.pyenv/versions/3.10.6/envs/lewagon/lib/python3.10/site-packages/tensorflow/python/eager/function.py:497\u001b[0m, in \u001b[0;36m_EagerDefinedFunction.call\u001b[0;34m(self, ctx, args, cancellation_manager)\u001b[0m\n\u001b[1;32m    495\u001b[0m \u001b[38;5;28;01mwith\u001b[39;00m _InterpolateFunctionError(\u001b[38;5;28mself\u001b[39m):\n\u001b[1;32m    496\u001b[0m   \u001b[38;5;28;01mif\u001b[39;00m cancellation_manager \u001b[38;5;129;01mis\u001b[39;00m \u001b[38;5;28;01mNone\u001b[39;00m:\n\u001b[0;32m--> 497\u001b[0m     outputs \u001b[38;5;241m=\u001b[39m \u001b[43mexecute\u001b[49m\u001b[38;5;241;43m.\u001b[39;49m\u001b[43mexecute\u001b[49m\u001b[43m(\u001b[49m\n\u001b[1;32m    498\u001b[0m \u001b[43m        \u001b[49m\u001b[38;5;28;43mstr\u001b[39;49m\u001b[43m(\u001b[49m\u001b[38;5;28;43mself\u001b[39;49m\u001b[38;5;241;43m.\u001b[39;49m\u001b[43msignature\u001b[49m\u001b[38;5;241;43m.\u001b[39;49m\u001b[43mname\u001b[49m\u001b[43m)\u001b[49m\u001b[43m,\u001b[49m\n\u001b[1;32m    499\u001b[0m \u001b[43m        \u001b[49m\u001b[43mnum_outputs\u001b[49m\u001b[38;5;241;43m=\u001b[39;49m\u001b[38;5;28;43mself\u001b[39;49m\u001b[38;5;241;43m.\u001b[39;49m\u001b[43m_num_outputs\u001b[49m\u001b[43m,\u001b[49m\n\u001b[1;32m    500\u001b[0m \u001b[43m        \u001b[49m\u001b[43minputs\u001b[49m\u001b[38;5;241;43m=\u001b[39;49m\u001b[43margs\u001b[49m\u001b[43m,\u001b[49m\n\u001b[1;32m    501\u001b[0m \u001b[43m        \u001b[49m\u001b[43mattrs\u001b[49m\u001b[38;5;241;43m=\u001b[39;49m\u001b[43mattrs\u001b[49m\u001b[43m,\u001b[49m\n\u001b[1;32m    502\u001b[0m \u001b[43m        \u001b[49m\u001b[43mctx\u001b[49m\u001b[38;5;241;43m=\u001b[39;49m\u001b[43mctx\u001b[49m\u001b[43m)\u001b[49m\n\u001b[1;32m    503\u001b[0m   \u001b[38;5;28;01melse\u001b[39;00m:\n\u001b[1;32m    504\u001b[0m     outputs \u001b[38;5;241m=\u001b[39m execute\u001b[38;5;241m.\u001b[39mexecute_with_cancellation(\n\u001b[1;32m    505\u001b[0m         \u001b[38;5;28mstr\u001b[39m(\u001b[38;5;28mself\u001b[39m\u001b[38;5;241m.\u001b[39msignature\u001b[38;5;241m.\u001b[39mname),\n\u001b[1;32m    506\u001b[0m         num_outputs\u001b[38;5;241m=\u001b[39m\u001b[38;5;28mself\u001b[39m\u001b[38;5;241m.\u001b[39m_num_outputs,\n\u001b[0;32m   (...)\u001b[0m\n\u001b[1;32m    509\u001b[0m         ctx\u001b[38;5;241m=\u001b[39mctx,\n\u001b[1;32m    510\u001b[0m         cancellation_manager\u001b[38;5;241m=\u001b[39mcancellation_manager)\n",
      "File \u001b[0;32m~/.pyenv/versions/3.10.6/envs/lewagon/lib/python3.10/site-packages/tensorflow/python/eager/execute.py:54\u001b[0m, in \u001b[0;36mquick_execute\u001b[0;34m(op_name, num_outputs, inputs, attrs, ctx, name)\u001b[0m\n\u001b[1;32m     52\u001b[0m \u001b[38;5;28;01mtry\u001b[39;00m:\n\u001b[1;32m     53\u001b[0m   ctx\u001b[38;5;241m.\u001b[39mensure_initialized()\n\u001b[0;32m---> 54\u001b[0m   tensors \u001b[38;5;241m=\u001b[39m \u001b[43mpywrap_tfe\u001b[49m\u001b[38;5;241;43m.\u001b[39;49m\u001b[43mTFE_Py_Execute\u001b[49m\u001b[43m(\u001b[49m\u001b[43mctx\u001b[49m\u001b[38;5;241;43m.\u001b[39;49m\u001b[43m_handle\u001b[49m\u001b[43m,\u001b[49m\u001b[43m \u001b[49m\u001b[43mdevice_name\u001b[49m\u001b[43m,\u001b[49m\u001b[43m \u001b[49m\u001b[43mop_name\u001b[49m\u001b[43m,\u001b[49m\n\u001b[1;32m     55\u001b[0m \u001b[43m                                      \u001b[49m\u001b[43minputs\u001b[49m\u001b[43m,\u001b[49m\u001b[43m \u001b[49m\u001b[43mattrs\u001b[49m\u001b[43m,\u001b[49m\u001b[43m \u001b[49m\u001b[43mnum_outputs\u001b[49m\u001b[43m)\u001b[49m\n\u001b[1;32m     56\u001b[0m \u001b[38;5;28;01mexcept\u001b[39;00m core\u001b[38;5;241m.\u001b[39m_NotOkStatusException \u001b[38;5;28;01mas\u001b[39;00m e:\n\u001b[1;32m     57\u001b[0m   \u001b[38;5;28;01mif\u001b[39;00m name \u001b[38;5;129;01mis\u001b[39;00m \u001b[38;5;129;01mnot\u001b[39;00m \u001b[38;5;28;01mNone\u001b[39;00m:\n",
      "\u001b[0;31mKeyboardInterrupt\u001b[0m: "
     ]
    }
   ],
   "source": [
    "history = model.fit(X_train, y_train, validation_data = (X_val,y_val), epochs = 100, callbacks = [es, TqdmCallback(verbose = 0)], verbose = 0, batch_size=32)"
   ]
  },
  {
   "cell_type": "code",
   "execution_count": null,
   "id": "d5e9e75d",
   "metadata": {},
   "outputs": [],
   "source": [
    "def plot_results(history):\n",
    "\n",
    "    plt.figure(figsize=(12, 12))\n",
    "    plt.subplot(3, 2, 1)\n",
    "    plt.plot(history.history['accuracy'], label = 'train_accuracy')\n",
    "    plt.plot(history.history['val_accuracy'], label = 'val_accuracy')\n",
    "    plt.xlabel('epoch')\n",
    "    plt.ylabel('accuracy')\n",
    "    plt.legend()\n",
    "    plt.subplot(3, 2, 2)\n",
    "    plt.plot(history.history['loss'], label = 'train_loss')\n",
    "    plt.plot(history.history['val_loss'], label = 'val_loss')\n",
    "    plt.xlabel('epoch')\n",
    "    plt.ylabel('accuracy')\n",
    "    plt.legend()\n",
    "    plt.show()"
   ]
  },
  {
   "cell_type": "code",
   "execution_count": null,
   "id": "e4ae4acf",
   "metadata": {},
   "outputs": [],
   "source": [
    "plot_results(history)"
   ]
  },
  {
   "cell_type": "markdown",
   "id": "51a77ce1",
   "metadata": {},
   "source": [
    "## Evaluating the Model"
   ]
  },
  {
   "cell_type": "code",
   "execution_count": null,
   "id": "dacef11e",
   "metadata": {},
   "outputs": [],
   "source": [
    "loss, accuracy = model.evaluate(X_test, y_test)\n",
    "loss, accuracy"
   ]
  },
  {
   "cell_type": "markdown",
   "id": "4ebf9bbf",
   "metadata": {},
   "source": [
    "### Evaluating the Model using WebCam Pictures"
   ]
  },
  {
   "cell_type": "code",
   "execution_count": null,
   "id": "b166e87a",
   "metadata": {},
   "outputs": [],
   "source": [
    "webcam_test_data='raw_data/webcam-test'"
   ]
  },
  {
   "cell_type": "code",
   "execution_count": null,
   "id": "bfe18200",
   "metadata": {},
   "outputs": [],
   "source": [
    "images_webcam_test, labels_webcam_test = get_images(webcam_test_data)"
   ]
  },
  {
   "cell_type": "code",
   "execution_count": null,
   "id": "607c8951",
   "metadata": {},
   "outputs": [],
   "source": [
    "X_test_webcam, y_test_webcam = preprocessing(images_webcam_test, labels_webcam_test)"
   ]
  },
  {
   "cell_type": "code",
   "execution_count": null,
   "id": "04e48689",
   "metadata": {},
   "outputs": [],
   "source": [
    "loss_webcam, accuracy_webcam = model.evaluate(X_test_webcam, y_test_webcam)\n",
    "loss_webcam, accuracy_webcam"
   ]
  },
  {
   "cell_type": "code",
   "execution_count": null,
   "id": "4ae7aad4",
   "metadata": {},
   "outputs": [],
   "source": []
  }
 ],
 "metadata": {
  "kernelspec": {
   "display_name": "Python 3 (ipykernel)",
   "language": "python",
   "name": "python3"
  },
  "language_info": {
   "codemirror_mode": {
    "name": "ipython",
    "version": 3
   },
   "file_extension": ".py",
   "mimetype": "text/x-python",
   "name": "python",
   "nbconvert_exporter": "python",
   "pygments_lexer": "ipython3",
   "version": "3.10.6"
  },
  "toc": {
   "base_numbering": 1,
   "nav_menu": {},
   "number_sections": true,
   "sideBar": true,
   "skip_h1_title": false,
   "title_cell": "Table of Contents",
   "title_sidebar": "Contents",
   "toc_cell": false,
   "toc_position": {},
   "toc_section_display": true,
   "toc_window_display": false
  }
 },
 "nbformat": 4,
 "nbformat_minor": 5
}
