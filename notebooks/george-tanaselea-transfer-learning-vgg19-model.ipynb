{
 "cells": [
  {
   "cell_type": "markdown",
   "id": "06c0892c",
   "metadata": {},
   "source": [
    "# Library Imports"
   ]
  },
  {
   "cell_type": "code",
   "execution_count": 1,
   "id": "2c9cc4eb",
   "metadata": {},
   "outputs": [
    {
     "name": "stderr",
     "output_type": "stream",
     "text": [
      "objc[9091]: Class CaptureDelegate is implemented in both /Users/georgiantanaselea/.pyenv/versions/3.10.6/envs/lewagon/lib/python3.10/site-packages/cv2/cv2.abi3.so (0x174ffe5a0) and /Users/georgiantanaselea/.pyenv/versions/3.10.6/envs/lewagon/lib/python3.10/site-packages/mediapipe/.dylibs/libopencv_videoio.3.4.16.dylib (0x16887c860). One of the two will be used. Which one is undefined.\n",
      "objc[9091]: Class CVWindow is implemented in both /Users/georgiantanaselea/.pyenv/versions/3.10.6/envs/lewagon/lib/python3.10/site-packages/cv2/cv2.abi3.so (0x174ffe5f0) and /Users/georgiantanaselea/.pyenv/versions/3.10.6/envs/lewagon/lib/python3.10/site-packages/mediapipe/.dylibs/libopencv_highgui.3.4.16.dylib (0x1235e0a68). One of the two will be used. Which one is undefined.\n",
      "objc[9091]: Class CVView is implemented in both /Users/georgiantanaselea/.pyenv/versions/3.10.6/envs/lewagon/lib/python3.10/site-packages/cv2/cv2.abi3.so (0x174ffe618) and /Users/georgiantanaselea/.pyenv/versions/3.10.6/envs/lewagon/lib/python3.10/site-packages/mediapipe/.dylibs/libopencv_highgui.3.4.16.dylib (0x1235e0a90). One of the two will be used. Which one is undefined.\n",
      "objc[9091]: Class CVSlider is implemented in both /Users/georgiantanaselea/.pyenv/versions/3.10.6/envs/lewagon/lib/python3.10/site-packages/cv2/cv2.abi3.so (0x174ffe640) and /Users/georgiantanaselea/.pyenv/versions/3.10.6/envs/lewagon/lib/python3.10/site-packages/mediapipe/.dylibs/libopencv_highgui.3.4.16.dylib (0x1235e0ab8). One of the two will be used. Which one is undefined.\n"
     ]
    }
   ],
   "source": [
    "import os\n",
    "import cv2\n",
    "import numpy as np\n",
    "import tracemalloc\n",
    "\n",
    "\n",
    "# Data Visualisation\n",
    "import matplotlib.pyplot as plt\n",
    "\n",
    "#Preprocessing\n",
    "import mediapipe as mp\n",
    "from sklearn.model_selection import train_test_split\n",
    "from sklearn.preprocessing import LabelEncoder\n",
    "from tensorflow.keras import utils, preprocessing\n",
    "from tensorflow.keras.preprocessing.image import array_to_img\n",
    "\n",
    "\n",
    "#Learning rate & decay\n",
    "from tensorflow.keras.optimizers.schedules import ExponentialDecay\n",
    "\n",
    "#Callbacks\n",
    "from tensorflow.keras.callbacks import EarlyStopping\n",
    "from tqdm.keras import TqdmCallback\n",
    "\n",
    "# Model Training\n",
    "from tensorflow.keras.optimizers import Adam\n",
    "from tensorflow import convert_to_tensor\n",
    "from tensorflow.keras import layers\n",
    "from tensorflow.keras.models import Sequential\n",
    "from tensorflow.keras.layers import Dense, Dropout, Flatten, Conv2D, MaxPooling2D, BatchNormalization\n",
    "from tensorflow.keras.applications import VGG19"
   ]
  },
  {
   "cell_type": "markdown",
   "id": "65c51ec7",
   "metadata": {},
   "source": [
    "# Load Data"
   ]
  },
  {
   "cell_type": "code",
   "execution_count": 10,
   "id": "0296dd14",
   "metadata": {},
   "outputs": [],
   "source": [
    "# import cv2\n",
    "# import os\n",
    "\n",
    "\n",
    "# def get_images(directory):\n",
    "#     \"\"\"get images local if in same directory as collab notebook\"\"\"\n",
    "#     images = []\n",
    "#     labels = []\n",
    "\n",
    "#     directory_list = sorted(os.listdir(directory))\n",
    "#     for i in range(len(directory_list)):\n",
    "#         print(f\"Getting images of {directory_list[i]}:\")\n",
    "#         for image in os.listdir(directory + \"/\" + directory_list[i]):\n",
    "#             img = cv2.imread(directory + \"/\" + directory_list[i] + \"/\" + image)\n",
    "#             img = crop_image(img)\n",
    "#             if img.shape[0] > 1:\n",
    "#                 img = cv2.resize(img, (32, 32))\n",
    "#                 images.append(img)\n",
    "#                 labels.append(directory_list[i])\n",
    "\n",
    "#     return images, labels"
   ]
  },
  {
   "cell_type": "code",
   "execution_count": 4,
   "id": "0f5b604b",
   "metadata": {},
   "outputs": [],
   "source": [
    "def get_images(directory):\n",
    "    \"\"\"get images local if in same directory as collab notebook\"\"\"\n",
    "    images = []\n",
    "    labels = []\n",
    "    directory_list = sorted(os.listdir(directory))\n",
    "    for i in range(len(directory_list)):\n",
    "        print(f\"Getting images of {directory_list[i]}:\")\n",
    "        for image in os.listdir(directory + \"/\" + directory_list[i]):\n",
    "            img = cv2.imread(directory + \"/\" + directory_list[i] + \"/\" + image)\n",
    "            images.append(img)\n",
    "            labels.append(directory[i])\n",
    "    return images, labels"
   ]
  },
  {
   "cell_type": "code",
   "execution_count": 5,
   "id": "30c447a2",
   "metadata": {},
   "outputs": [],
   "source": [
    "saving_dir = os.environ.get(\"SAVE_DIR\") "
   ]
  },
  {
   "cell_type": "code",
   "execution_count": 6,
   "id": "0deb6311",
   "metadata": {},
   "outputs": [
    {
     "name": "stdout",
     "output_type": "stream",
     "text": [
      "Getting images of .DS_Store:\n"
     ]
    },
    {
     "ename": "NotADirectoryError",
     "evalue": "[Errno 20] Not a directory: '/Users/georgiantanaselea/code/stuhow/sign_language_translation/processed_image/.DS_Store'",
     "output_type": "error",
     "traceback": [
      "\u001b[0;31m---------------------------------------------------------------------------\u001b[0m",
      "\u001b[0;31mNotADirectoryError\u001b[0m                        Traceback (most recent call last)",
      "Cell \u001b[0;32mIn [6], line 1\u001b[0m\n\u001b[0;32m----> 1\u001b[0m images, labels \u001b[38;5;241m=\u001b[39m get_images(saving_dir)\n",
      "Cell \u001b[0;32mIn [4], line 8\u001b[0m, in \u001b[0;36mget_images\u001b[0;34m(directory)\u001b[0m\n\u001b[1;32m      6\u001b[0m \u001b[38;5;28;01mfor\u001b[39;00m i \u001b[38;5;129;01min\u001b[39;00m \u001b[38;5;28mrange\u001b[39m(\u001b[38;5;28mlen\u001b[39m(directory_list)):\n\u001b[1;32m      7\u001b[0m     \u001b[38;5;28mprint\u001b[39m(\u001b[38;5;124mf\u001b[39m\u001b[38;5;124m\"\u001b[39m\u001b[38;5;124mGetting images of \u001b[39m\u001b[38;5;132;01m{\u001b[39;00mdirectory_list[i]\u001b[38;5;132;01m}\u001b[39;00m\u001b[38;5;124m:\u001b[39m\u001b[38;5;124m\"\u001b[39m)\n\u001b[0;32m----> 8\u001b[0m     \u001b[38;5;28;01mfor\u001b[39;00m image \u001b[38;5;129;01min\u001b[39;00m \u001b[43mos\u001b[49m\u001b[38;5;241;43m.\u001b[39;49m\u001b[43mlistdir\u001b[49m\u001b[43m(\u001b[49m\u001b[43mdirectory\u001b[49m\u001b[43m \u001b[49m\u001b[38;5;241;43m+\u001b[39;49m\u001b[43m \u001b[49m\u001b[38;5;124;43m\"\u001b[39;49m\u001b[38;5;124;43m/\u001b[39;49m\u001b[38;5;124;43m\"\u001b[39;49m\u001b[43m \u001b[49m\u001b[38;5;241;43m+\u001b[39;49m\u001b[43m \u001b[49m\u001b[43mdirectory_list\u001b[49m\u001b[43m[\u001b[49m\u001b[43mi\u001b[49m\u001b[43m]\u001b[49m\u001b[43m)\u001b[49m:\n\u001b[1;32m      9\u001b[0m         img \u001b[38;5;241m=\u001b[39m cv2\u001b[38;5;241m.\u001b[39mimread(directory \u001b[38;5;241m+\u001b[39m \u001b[38;5;124m\"\u001b[39m\u001b[38;5;124m/\u001b[39m\u001b[38;5;124m\"\u001b[39m \u001b[38;5;241m+\u001b[39m directory_list[i] \u001b[38;5;241m+\u001b[39m \u001b[38;5;124m\"\u001b[39m\u001b[38;5;124m/\u001b[39m\u001b[38;5;124m\"\u001b[39m \u001b[38;5;241m+\u001b[39m image)\n\u001b[1;32m     10\u001b[0m         images\u001b[38;5;241m.\u001b[39mappend(img)\n",
      "\u001b[0;31mNotADirectoryError\u001b[0m: [Errno 20] Not a directory: '/Users/georgiantanaselea/code/stuhow/sign_language_translation/processed_image/.DS_Store'"
     ]
    }
   ],
   "source": [
    "images, labels = get_images(saving_dir)"
   ]
  },
  {
   "cell_type": "markdown",
   "id": "6f1e8aef",
   "metadata": {},
   "source": [
    "# Preprocessing Data"
   ]
  },
  {
   "cell_type": "code",
   "execution_count": 3,
   "id": "7498c8ab",
   "metadata": {},
   "outputs": [],
   "source": [
    "import cv2\n",
    "import mediapipe as mp\n",
    "from sklearn.preprocessing import LabelEncoder\n",
    "from tensorflow.keras import utils\n",
    "from sklearn.model_selection import train_test_split\n",
    "import numpy as np\n",
    "import pandas as pd\n",
    "import random\n",
    "\n",
    "def make_image_square(x_max, x_min, y_max, y_min, h, w):\n",
    "    '''used in below'''\n",
    "    x_diff = x_max - x_min\n",
    "    y_diff = y_max - y_min\n",
    "\n",
    "    if y_diff > x_diff:\n",
    "\n",
    "        length_diff =  y_diff - x_diff\n",
    "\n",
    "        half_length_diff_max = round(length_diff/2)\n",
    "        half_length_diff_min = length_diff-half_length_diff_max\n",
    "\n",
    "        x_max = half_length_diff_max + x_max\n",
    "        x_min = x_min - half_length_diff_min\n",
    "        if x_min < 0:\n",
    "            x_max += abs(x_min)\n",
    "        if x_max > w:\n",
    "            x_min -= x_max\n",
    "\n",
    "    elif x_diff > y_diff:\n",
    "        length_diff =  x_diff -  y_diff\n",
    "\n",
    "        half_length_diff_max = round(length_diff/2)\n",
    "        half_length_diff_min = length_diff-half_length_diff_max\n",
    "\n",
    "        y_max = half_length_diff_max + y_max\n",
    "        y_min = y_min - half_length_diff_min\n",
    "\n",
    "        if y_min < 0:\n",
    "            y_max += abs(y_min)\n",
    "        if y_max > h:\n",
    "            y_min -= y_max\n",
    "\n",
    "\n",
    "    return x_max, x_min, y_max, y_min\n",
    "\n",
    "def crop_image(image):\n",
    "\n",
    "    mp_hands = mp.solutions.hands\n",
    "\n",
    "    # For static images:\n",
    "    mp_model = mp_hands.Hands(\n",
    "        static_image_mode=True, # only static images\n",
    "        max_num_hands=2, # max 2 hands detection\n",
    "        min_detection_confidence=0.5) # detection confidence\n",
    "\n",
    "    results = mp_model.process(cv2.cvtColor(image, cv2.COLOR_BGR2RGB))\n",
    "    h, w, c = image.shape # get image shape\n",
    "\n",
    "    hand_landmarks = results.multi_hand_landmarks\n",
    "    crop_image = np.array([[[0]]])\n",
    "    if hand_landmarks:\n",
    "        for handLMs in hand_landmarks:\n",
    "            x_max = 0\n",
    "            y_max = 0\n",
    "            x_min = w\n",
    "            y_min = h\n",
    "            for lm in handLMs.landmark:\n",
    "                x, y = int(lm.x * w), int(lm.y * h)\n",
    "                if x > x_max:\n",
    "                    x_max = x\n",
    "                if x < x_min:\n",
    "                    x_min = x\n",
    "                if y > y_max:\n",
    "                    y_max = y\n",
    "                if y < y_min:\n",
    "                    y_min = y\n",
    "            y_min -= round(h/10)\n",
    "            y_max += round(h/10)\n",
    "            x_min -= round(h/10)\n",
    "            x_max += round(h/10)\n",
    "\n",
    "        x_max, x_min, y_max, y_min = make_image_square(x_max, x_min, y_max, y_min, h, w)\n",
    "\n",
    "        crop_image = image[y_min:y_max, x_min:x_max]\n",
    "\n",
    "        if x_max > w:\n",
    "            crop_image = np.array([[[0]]])\n",
    "        if x_min < 0:\n",
    "            crop_image = np.array([[[0]]])\n",
    "        if y_max > h:\n",
    "            crop_image = np.array([[[0]]])\n",
    "        if y_min < 0:\n",
    "            crop_image = np.array([[[0]]])\n",
    "\n",
    "    mp_model.close()\n",
    "    return crop_image\n",
    "\n",
    "def balancing(X, y):\n",
    "    m = pd.Series(y).value_counts()[-1]\n",
    "    unique_values = pd.Series(y).unique()\n",
    "    x_sampled = []\n",
    "    y_sampled = []\n",
    "    for i in unique_values:\n",
    "        start = y.index(i)\n",
    "        end = len(y) - y[::-1].index(i)\n",
    "        x1 = X[start:end]\n",
    "        y1 = y[start:end]\n",
    "        x_sub, y_sub = zip(*random.sample(list(zip(x1,y1)), m))\n",
    "        x_sampled.extend(x_sub)\n",
    "        y_sampled.extend(y_sub)\n",
    "\n",
    "    return x_sampled, y_sampled\n",
    "\n",
    "\n",
    "def preprocessing(X, y):\n",
    "    \"\"\"Normalise our images and categorically encode our labels\"\"\"\n",
    "    LE = LabelEncoder()\n",
    "    X = np.array(X)\n",
    "    X = X/255\n",
    "    y = LE.fit_transform(y)\n",
    "    y = utils.to_categorical(y, num_classes = 29)\n",
    "    return X, y\n",
    "\n",
    "def train_val_test_split(X, y):\n",
    "    X_train, X_val, y_train, y_val = train_test_split(X, y, test_size = 0.4)\n",
    "    X_val, X_test, y_val, y_test = train_test_split(X_val, y_val, test_size = 0.5)\n",
    "    return X_train, X_val, X_test, y_train, y_val, y_test\n",
    "\n",
    "def backgroud_removal(img):\n",
    "    \"\"\"Receives the croped image and proceeds\n",
    "    to remove the background, leaving only the hand layout.\n",
    "    \"\"\"\n",
    "\n",
    "    # initialize mediapipe\n",
    "    mp_selfie_segmentation = mp.solutions.selfie_segmentation\n",
    "    selfie_segmentation = mp_selfie_segmentation.SelfieSegmentation(model_selection=1)\n",
    "\n",
    "    #creating white background\n",
    "    imgWhite = np.ones((img.shape[0],img.shape[1],3),np.uint8)*255\n",
    "\n",
    "    # extract segmented mask\n",
    "    results = selfie_segmentation.process(img)\n",
    "\n",
    "    #condition to apply the mask\n",
    "    condition = np.stack(\n",
    "      (results.segmentation_mask,) * 3, axis=-1) > 0.6\n",
    "\n",
    "    #merging croped img with the white background\n",
    "    noBackground = np.where(condition, img, imgWhite)\n",
    "\n",
    "    return noBackground\n"
   ]
  },
  {
   "cell_type": "code",
   "execution_count": 8,
   "id": "bd9d5af8",
   "metadata": {},
   "outputs": [],
   "source": [
    "X_train, X_val, X_test, y_train, y_val, y_test = train_val_test_split(images, labels)"
   ]
  },
  {
   "cell_type": "code",
   "execution_count": 9,
   "id": "6c6e3422",
   "metadata": {},
   "outputs": [],
   "source": [
    "X_train, y_train = balancing(X_train, y_train)\n",
    "X_train, y_train = preprocessing(X_train, y_train)\n",
    "X_val, y_val = preprocessing(X_val, y_val)\n",
    "X_test, y_test = preprocessing(X_test, y_test)"
   ]
  },
  {
   "cell_type": "markdown",
   "id": "e7cacc4b",
   "metadata": {},
   "source": [
    "# Model - Transfer Learning VGG19"
   ]
  },
  {
   "cell_type": "markdown",
   "id": "d6b43a82",
   "metadata": {},
   "source": [
    "## Loading VGG19 Model"
   ]
  },
  {
   "cell_type": "code",
   "execution_count": 108,
   "id": "7b667fb3",
   "metadata": {},
   "outputs": [],
   "source": [
    "def load_transfer_model():\n",
    "    model = VGG19(include_top=False,\n",
    "    weights=\"imagenet\",\n",
    "    input_shape=X_train.shape[1:])\n",
    "    return model"
   ]
  },
  {
   "cell_type": "code",
   "execution_count": 109,
   "id": "8e1e14f0",
   "metadata": {},
   "outputs": [],
   "source": [
    "def set_nontrainable_layers(model):\n",
    "    \n",
    "    model.trainable = False\n",
    "    \n",
    "    return model"
   ]
  },
  {
   "cell_type": "markdown",
   "id": "334b0b13",
   "metadata": {},
   "source": [
    "## Adding Predictive Layer and Building the Model"
   ]
  },
  {
   "cell_type": "code",
   "execution_count": 110,
   "id": "e1fbe46e",
   "metadata": {},
   "outputs": [],
   "source": [
    "def add_last_layers(model):\n",
    "    '''Take a pre-trained model, set its parameters as non-trainable, and add additional trainable layers on top'''\n",
    "    model = set_nontrainable_layers(model)\n",
    "    flattening_layer = Flatten()\n",
    "    dense_layer_1 = layers.Dense(128, activation='relu')\n",
    "    dense_layer_2 = layers.Dense(64, activation='relu')\n",
    "    dense_layer_3 = layers.Dense(32, activation='relu')\n",
    "    prediction_layer = layers.Dense(29, activation='softmax')\n",
    "    model = Sequential([\n",
    "    model,\n",
    "    flattening_layer,\n",
    "    dense_layer_1,\n",
    "    dense_layer_2,\n",
    "    dense_layer_3,\n",
    "    prediction_layer\n",
    "    ])\n",
    "    return model"
   ]
  },
  {
   "cell_type": "code",
   "execution_count": 111,
   "id": "ebfaed14",
   "metadata": {},
   "outputs": [],
   "source": [
    "#Setting up a learning rate exponential decay\n",
    "lr_schedule = ExponentialDecay(\n",
    "    0.001,\n",
    "    decay_steps=100000,\n",
    "    decay_rate=0.96,\n",
    "    staircase=True)"
   ]
  },
  {
   "cell_type": "code",
   "execution_count": 112,
   "id": "370f61ee",
   "metadata": {},
   "outputs": [],
   "source": [
    "def build_transfer_model():\n",
    "    model = load_transfer_model()\n",
    "    model = add_last_layers(model)\n",
    "    opt = Adam(learning_rate = lr_schedule)\n",
    "    model.compile(loss='categorical_crossentropy',\n",
    "              optimizer=opt,\n",
    "              metrics=['accuracy'])\n",
    "    return model"
   ]
  },
  {
   "cell_type": "code",
   "execution_count": 113,
   "id": "c4eb18a5",
   "metadata": {},
   "outputs": [],
   "source": [
    "model = build_transfer_model()"
   ]
  },
  {
   "cell_type": "code",
   "execution_count": 114,
   "id": "f8fe84a4",
   "metadata": {},
   "outputs": [
    {
     "name": "stdout",
     "output_type": "stream",
     "text": [
      "Model: \"sequential_3\"\n",
      "_________________________________________________________________\n",
      " Layer (type)                Output Shape              Param #   \n",
      "=================================================================\n",
      " vgg19 (Functional)          (None, 1, 1, 512)         20024384  \n",
      "                                                                 \n",
      " flatten_3 (Flatten)         (None, 512)               0         \n",
      "                                                                 \n",
      " dense_12 (Dense)            (None, 128)               65664     \n",
      "                                                                 \n",
      " dense_13 (Dense)            (None, 64)                8256      \n",
      "                                                                 \n",
      " dense_14 (Dense)            (None, 32)                2080      \n",
      "                                                                 \n",
      " dense_15 (Dense)            (None, 29)                957       \n",
      "                                                                 \n",
      "=================================================================\n",
      "Total params: 20,101,341\n",
      "Trainable params: 76,957\n",
      "Non-trainable params: 20,024,384\n",
      "_________________________________________________________________\n"
     ]
    }
   ],
   "source": [
    "model.summary()"
   ]
  },
  {
   "cell_type": "markdown",
   "id": "42a19c8a",
   "metadata": {},
   "source": [
    "### Defining Early Stopping"
   ]
  },
  {
   "cell_type": "code",
   "execution_count": 115,
   "id": "a14bcb52",
   "metadata": {},
   "outputs": [],
   "source": [
    "es = EarlyStopping(monitor='val_loss', mode='min', verbose=1, patience = 5, restore_best_weights = True)"
   ]
  },
  {
   "cell_type": "markdown",
   "id": "f77242a5",
   "metadata": {},
   "source": [
    "## Training Model"
   ]
  },
  {
   "cell_type": "code",
   "execution_count": 116,
   "id": "2a553f8d",
   "metadata": {
    "scrolled": true
   },
   "outputs": [
    {
     "data": {
      "application/vnd.jupyter.widget-view+json": {
       "model_id": "1c12ece560024e638f1c2d679ba4e696",
       "version_major": 2,
       "version_minor": 0
      },
      "text/plain": [
       "0epoch [00:00, ?epoch/s]"
      ]
     },
     "metadata": {},
     "output_type": "display_data"
    },
    {
     "name": "stderr",
     "output_type": "stream",
     "text": [
      "2023-03-03 17:48:16.847474: I tensorflow/core/grappler/optimizers/custom_graph_optimizer_registry.cc:113] Plugin optimizer for device_type GPU is enabled.\n",
      "2023-03-03 17:48:25.286149: I tensorflow/core/grappler/optimizers/custom_graph_optimizer_registry.cc:113] Plugin optimizer for device_type GPU is enabled.\n"
     ]
    }
   ],
   "source": [
    "history = model.fit(X_train, y_train, validation_data = (X_val,y_val), epochs = 1, callbacks = [es, TqdmCallback(verbose = 0)], verbose = 0, batch_size=32)"
   ]
  },
  {
   "cell_type": "code",
   "execution_count": 120,
   "id": "d5e9e75d",
   "metadata": {},
   "outputs": [],
   "source": [
    "def plot_results(history):\n",
    "\n",
    "    plt.figure(figsize=(12, 12))\n",
    "    plt.subplot(3, 2, 1)\n",
    "    plt.plot(history.history['accuracy'], label = 'train_accuracy')\n",
    "    plt.plot(history.history['val_accuracy'], label = 'val_accuracy')\n",
    "    plt.xlabel('epoch')\n",
    "    plt.ylabel('accuracy')\n",
    "    plt.legend()\n",
    "    plt.subplot(3, 2, 2)\n",
    "    plt.plot(history.history['loss'], label = 'train_loss')\n",
    "    plt.plot(history.history['val_loss'], label = 'val_loss')\n",
    "    plt.xlabel('epoch')\n",
    "    plt.ylabel('accuracy')\n",
    "    plt.legend()\n",
    "    plt.show()"
   ]
  },
  {
   "cell_type": "code",
   "execution_count": 121,
   "id": "e4ae4acf",
   "metadata": {},
   "outputs": [
    {
     "data": {
      "image/png": "[encoded data removed]",
      "text/plain": [
       "<Figure size 1200x1200 with 2 Axes>"
      ]
     },
     "metadata": {},
     "output_type": "display_data"
    }
   ],
   "source": [
    "plot_results(history)"
   ]
  },
  {
   "cell_type": "markdown",
   "id": "51a77ce1",
   "metadata": {},
   "source": [
    "## Evaluating the Model"
   ]
  },
  {
   "cell_type": "code",
   "execution_count": 122,
   "id": "dacef11e",
   "metadata": {},
   "outputs": [
    {
     "name": "stdout",
     "output_type": "stream",
     "text": [
      "484/484 [==============================] - 9s 18ms/step - loss: 0.9338 - accuracy: 0.7078\n"
     ]
    },
    {
     "data": {
      "text/plain": [
       "(0.9338039755821228, 0.7077628970146179)"
      ]
     },
     "execution_count": 122,
     "metadata": {},
     "output_type": "execute_result"
    }
   ],
   "source": [
    "loss, accuracy = model.evaluate(X_test, y_test)\n",
    "loss, accuracy"
   ]
  },
  {
   "cell_type": "markdown",
   "id": "4ebf9bbf",
   "metadata": {},
   "source": [
    "### Evaluating the Model using WebCam Pictures"
   ]
  },
  {
   "cell_type": "code",
   "execution_count": 123,
   "id": "b166e87a",
   "metadata": {},
   "outputs": [],
   "source": [
    "webcam_test_data='/Users/georgiantanaselea/code/stuhow/raw_data/webcam-test'"
   ]
  },
  {
   "cell_type": "code",
   "execution_count": 124,
   "id": "def901df",
   "metadata": {},
   "outputs": [],
   "source": [
    "webcam_saving_dir='/Users/georgiantanaselea/code/stuhow/sign_language_translation/processed_image_webcam'"
   ]
  },
  {
   "cell_type": "code",
   "execution_count": 125,
   "id": "5fecf592",
   "metadata": {},
   "outputs": [],
   "source": [
    "def process_images(directory,saving_dir):\n",
    "    \"\"\"get images local if in same directory as collab notebook\"\"\"\n",
    "    directory_list = sorted(os.listdir(directory))\n",
    "    for i in range(len(directory_list)):\n",
    "        print(f\"Getting images of {directory_list[i]}:\")\n",
    "        for image in os.listdir(directory + \"/\" + directory_list[i]):\n",
    "            img = cv2.imread(directory + \"/\" + directory_list[i] + \"/\" + image)\n",
    "            #img = backgroud_removal(img)\n",
    "            img = crop_image(img)\n",
    "            if img.shape[0] > 1:\n",
    "                img = cv2.resize(img, (56, 56))\n",
    "                try:\n",
    "                    os.mkdir(f\"{saving_dir}/{directory_list[i]}\")\n",
    "                except:\n",
    "                    pass\n",
    "                cv2.imwrite(f\"{saving_dir}/{directory_list[i]}/Image_{image}\",img)\n",
    "    print(\"Complete\")"
   ]
  },
  {
   "cell_type": "code",
   "execution_count": 127,
   "id": "bfe18200",
   "metadata": {},
   "outputs": [
    {
     "name": "stdout",
     "output_type": "stream",
     "text": [
      "Getting images of B:\n",
      "Getting images of C:\n",
      "Getting images of L:\n",
      "Getting images of Y:\n"
     ]
    }
   ],
   "source": [
    "images_webcam_test, labels_webcam_test = get_images(webcam_saving_dir)"
   ]
  },
  {
   "cell_type": "code",
   "execution_count": 128,
   "id": "607c8951",
   "metadata": {},
   "outputs": [],
   "source": [
    "X_test_webcam, y_test_webcam = preprocessing(images_webcam_test, labels_webcam_test)"
   ]
  },
  {
   "cell_type": "code",
   "execution_count": 129,
   "id": "04e48689",
   "metadata": {},
   "outputs": [
    {
     "name": "stdout",
     "output_type": "stream",
     "text": [
      "1/1 [==============================] - 0s 84ms/step - loss: 5.9039 - accuracy: 0.0000e+00\n"
     ]
    },
    {
     "data": {
      "text/plain": [
       "(5.903870582580566, 0.0)"
      ]
     },
     "execution_count": 129,
     "metadata": {},
     "output_type": "execute_result"
    }
   ],
   "source": [
    "loss_webcam, accuracy_webcam = model.evaluate(X_test_webcam, y_test_webcam)\n",
    "loss_webcam, accuracy_webcam"
   ]
  },
  {
   "cell_type": "code",
   "execution_count": null,
   "id": "4ae7aad4",
   "metadata": {},
   "outputs": [],
   "source": []
  }
 ],
 "metadata": {
  "kernelspec": {
   "display_name": "Python 3 (ipykernel)",
   "language": "python",
   "name": "python3"
  },
  "language_info": {
   "codemirror_mode": {
    "name": "ipython",
    "version": 3
   },
   "file_extension": ".py",
   "mimetype": "text/x-python",
   "name": "python",
   "nbconvert_exporter": "python",
   "pygments_lexer": "ipython3",
   "version": "3.10.6"
  },
  "toc": {
   "base_numbering": 1,
   "nav_menu": {},
   "number_sections": true,
   "sideBar": true,
   "skip_h1_title": false,
   "title_cell": "Table of Contents",
   "title_sidebar": "Contents",
   "toc_cell": false,
   "toc_position": {},
   "toc_section_display": true,
   "toc_window_display": false
  }
 },
 "nbformat": 4,
 "nbformat_minor": 5
}
