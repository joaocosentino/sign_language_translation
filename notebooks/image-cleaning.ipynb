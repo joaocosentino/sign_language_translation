{
 "cells": [
  {
   "cell_type": "code",
   "execution_count": 1,
   "id": "4adf35c7",
   "metadata": {},
   "outputs": [],
   "source": [
    "import fiftyone as fo\n",
    "import fiftyone.zoo as foz\n",
    "import matplotlib.pyplot as plt\n",
    "import cv2\n",
    "import os\n",
    "from sklearn.metrics.pairwise import cosine_similarity\n",
    "import numpy as np"
   ]
  },
  {
   "cell_type": "code",
   "execution_count": 2,
   "id": "ee5a67ab",
   "metadata": {
    "scrolled": true
   },
   "outputs": [
    {
     "name": "stdout",
     "output_type": "stream",
     "text": [
      "image-cleaning.ipynb\r\n",
      "\u001b[1m\u001b[36mraw_data\u001b[m\u001b[m\r\n",
      "\u001b[1m\u001b[36msign_language_translation\u001b[m\u001b[m\r\n",
      "test_asl2.ipynb\r\n",
      "test_asl_aren_utilsdatafromdirectory.ipynb\r\n"
     ]
    }
   ],
   "source": [
    "!ls"
   ]
  },
  {
   "cell_type": "code",
   "execution_count": 3,
   "id": "1111bc26",
   "metadata": {},
   "outputs": [],
   "source": [
    "dir = 'raw_data/archive/asl_alphabet_train/asl_alphabet_train/C'"
   ]
  },
  {
   "cell_type": "code",
   "execution_count": 4,
   "id": "f716509e",
   "metadata": {},
   "outputs": [],
   "source": [
    "def get_images(directory): \n",
    "    \"\"\"get images from Google drive if in same directory as collab notebook\"\"\"\n",
    "    images = []\n",
    "    labels = []\n",
    "\n",
    "    directory_list = sorted(os.listdir(directory))\n",
    "    for i in range(len(directory_list)):\n",
    "        print(f\"Getting images of {directory_list[i]}:\")\n",
    "        for image in os.listdir(directory + \"/\" + directory_list[i]):\n",
    "            img = cv2.imread(directory + \"/\" + directory_list[i] + \"/\" + image)\n",
    "            img = cv2.resize(img, (28, 28))\n",
    "            images.append(img)\n",
    "            labels.append(directory_list[i])\n",
    "\n",
    "    return images, labels"
   ]
  },
  {
   "cell_type": "code",
   "execution_count": 5,
   "id": "8441fb54",
   "metadata": {},
   "outputs": [
    {
     "data": {
      "text/plain": [
       "'raw_data/archive/asl_alphabet_train/asl_alphabet_train/C'"
      ]
     },
     "execution_count": 5,
     "metadata": {},
     "output_type": "execute_result"
    }
   ],
   "source": [
    "dir"
   ]
  },
  {
   "cell_type": "code",
   "execution_count": 6,
   "id": "15844fab",
   "metadata": {
    "scrolled": true
   },
   "outputs": [
    {
     "name": "stdout",
     "output_type": "stream",
     "text": [
      "Getting images of C1.jpg:\n"
     ]
    },
    {
     "ename": "NotADirectoryError",
     "evalue": "[Errno 20] Not a directory: 'raw_data/archive/asl_alphabet_train/asl_alphabet_train/C/C1.jpg'",
     "output_type": "error",
     "traceback": [
      "\u001b[0;31m---------------------------------------------------------------------------\u001b[0m",
      "\u001b[0;31mNotADirectoryError\u001b[0m                        Traceback (most recent call last)",
      "Cell \u001b[0;32mIn [6], line 1\u001b[0m\n\u001b[0;32m----> 1\u001b[0m X, y \u001b[38;5;241m=\u001b[39m get_images(\u001b[38;5;28mdir\u001b[39m)\n",
      "Cell \u001b[0;32mIn [4], line 9\u001b[0m, in \u001b[0;36mget_images\u001b[0;34m(directory)\u001b[0m\n\u001b[1;32m      7\u001b[0m \u001b[38;5;28;01mfor\u001b[39;00m i \u001b[38;5;129;01min\u001b[39;00m \u001b[38;5;28mrange\u001b[39m(\u001b[38;5;28mlen\u001b[39m(directory_list)):\n\u001b[1;32m      8\u001b[0m     \u001b[38;5;28mprint\u001b[39m(\u001b[38;5;124mf\u001b[39m\u001b[38;5;124m\"\u001b[39m\u001b[38;5;124mGetting images of \u001b[39m\u001b[38;5;132;01m{\u001b[39;00mdirectory_list[i]\u001b[38;5;132;01m}\u001b[39;00m\u001b[38;5;124m:\u001b[39m\u001b[38;5;124m\"\u001b[39m)\n\u001b[0;32m----> 9\u001b[0m     \u001b[38;5;28;01mfor\u001b[39;00m image \u001b[38;5;129;01min\u001b[39;00m \u001b[43mos\u001b[49m\u001b[38;5;241;43m.\u001b[39;49m\u001b[43mlistdir\u001b[49m\u001b[43m(\u001b[49m\u001b[43mdirectory\u001b[49m\u001b[43m \u001b[49m\u001b[38;5;241;43m+\u001b[39;49m\u001b[43m \u001b[49m\u001b[38;5;124;43m\"\u001b[39;49m\u001b[38;5;124;43m/\u001b[39;49m\u001b[38;5;124;43m\"\u001b[39;49m\u001b[43m \u001b[49m\u001b[38;5;241;43m+\u001b[39;49m\u001b[43m \u001b[49m\u001b[43mdirectory_list\u001b[49m\u001b[43m[\u001b[49m\u001b[43mi\u001b[49m\u001b[43m]\u001b[49m\u001b[43m)\u001b[49m:\n\u001b[1;32m     10\u001b[0m         img \u001b[38;5;241m=\u001b[39m cv2\u001b[38;5;241m.\u001b[39mimread(directory \u001b[38;5;241m+\u001b[39m \u001b[38;5;124m\"\u001b[39m\u001b[38;5;124m/\u001b[39m\u001b[38;5;124m\"\u001b[39m \u001b[38;5;241m+\u001b[39m directory_list[i] \u001b[38;5;241m+\u001b[39m \u001b[38;5;124m\"\u001b[39m\u001b[38;5;124m/\u001b[39m\u001b[38;5;124m\"\u001b[39m \u001b[38;5;241m+\u001b[39m image)\n\u001b[1;32m     11\u001b[0m         img \u001b[38;5;241m=\u001b[39m cv2\u001b[38;5;241m.\u001b[39mresize(img, (\u001b[38;5;241m28\u001b[39m, \u001b[38;5;241m28\u001b[39m))\n",
      "\u001b[0;31mNotADirectoryError\u001b[0m: [Errno 20] Not a directory: 'raw_data/archive/asl_alphabet_train/asl_alphabet_train/C/C1.jpg'"
     ]
    }
   ],
   "source": [
    "X, y = get_images(dir)"
   ]
  },
  {
   "cell_type": "code",
   "execution_count": 7,
   "id": "cb141194",
   "metadata": {
    "scrolled": true
   },
   "outputs": [
    {
     "name": "stdout",
     "output_type": "stream",
     "text": [
      " 100% |███████████████| 3000/3000 [297.9ms elapsed, 0s remaining, 10.1K samples/s]     \n"
     ]
    }
   ],
   "source": [
    "name = \"C\"\n",
    "dataset_dir = dir\n",
    "\n",
    "# Create the dataset\n",
    "dataset = fo.Dataset.from_dir(\n",
    "    dataset_dir=dataset_dir,\n",
    "    dataset_type=fo.types.ImageDirectory,\n",
    "    name=name,\n",
    ")"
   ]
  },
  {
   "cell_type": "code",
   "execution_count": 8,
   "id": "08dba40e",
   "metadata": {
    "scrolled": true
   },
   "outputs": [
    {
     "name": "stderr",
     "output_type": "stream",
     "text": [
      "/Users/georgiantanaselea/.pyenv/versions/3.10.6/envs/lewagon/lib/python3.10/site-packages/torchvision/models/_utils.py:208: UserWarning: The parameter 'pretrained' is deprecated since 0.13 and may be removed in the future, please use 'weights' instead.\n",
      "  warnings.warn(\n",
      "/Users/georgiantanaselea/.pyenv/versions/3.10.6/envs/lewagon/lib/python3.10/site-packages/torchvision/models/_utils.py:223: UserWarning: Arguments other than a weight enum or `None` for 'weights' are deprecated since 0.13 and may be removed in the future. The current behavior is equivalent to passing `weights=MobileNet_V2_Weights.IMAGENET1K_V1`. You can also use `weights=MobileNet_V2_Weights.DEFAULT` to get the most up-to-date weights.\n",
      "  warnings.warn(msg)\n"
     ]
    }
   ],
   "source": [
    "model = foz.load_zoo_model(\"mobilenet-v2-imagenet-torch\")"
   ]
  },
  {
   "cell_type": "code",
   "execution_count": 9,
   "id": "2423121a",
   "metadata": {},
   "outputs": [
    {
     "name": "stdout",
     "output_type": "stream",
     "text": [
      " 100% |███████████████| 3000/3000 [2.5m elapsed, 0s remaining, 20.4 samples/s]      \n",
      "(3000, 1280)\n"
     ]
    }
   ],
   "source": [
    "embeddings = dataset.compute_embeddings(model)\n",
    "\n",
    "print(embeddings.shape)"
   ]
  },
  {
   "cell_type": "code",
   "execution_count": null,
   "id": "a3267c6c",
   "metadata": {},
   "outputs": [],
   "source": [
    "## Calculate Similarity\n"
   ]
  },
  {
   "cell_type": "code",
   "execution_count": 10,
   "id": "5b120f28",
   "metadata": {},
   "outputs": [
    {
     "name": "stdout",
     "output_type": "stream",
     "text": [
      "(3000, 3000)\n",
      "[[1.         0.97419665 0.7719385  ... 0.8819284  0.86406594 0.87873314]\n",
      " [0.97419665 1.         0.7763415  ... 0.86757907 0.84924054 0.86339437]\n",
      " [0.7719385  0.7763415  1.         ... 0.73940137 0.74111279 0.74902461]\n",
      " ...\n",
      " [0.8819284  0.86757907 0.73940137 ... 1.         0.98982324 0.99032338]\n",
      " [0.86406594 0.84924054 0.74111279 ... 0.98982324 1.         0.98870075]\n",
      " [0.87873314 0.86339437 0.74902461 ... 0.99032338 0.98870075 1.        ]]\n"
     ]
    }
   ],
   "source": [
    "similarity_matrix = cosine_similarity(embeddings, dense_output=False)\n",
    "\n",
    "print(similarity_matrix.shape)\n",
    "print(similarity_matrix)"
   ]
  },
  {
   "cell_type": "code",
   "execution_count": 11,
   "id": "df37b011",
   "metadata": {},
   "outputs": [],
   "source": [
    "n = len(similarity_matrix)\n",
    "\n",
    "similarity_matrix = similarity_matrix - np.identity(n)"
   ]
  },
  {
   "cell_type": "code",
   "execution_count": 12,
   "id": "fa3ee427",
   "metadata": {},
   "outputs": [],
   "source": [
    "id_map = [s.id for s in dataset.select_fields([\"id\"])]\n",
    "\n",
    "for idx, sample in enumerate(dataset):\n",
    "    sample[\"max_similarity\"] = similarity_matrix[idx].max()\n",
    "    sample.save()"
   ]
  },
  {
   "cell_type": "code",
   "execution_count": 13,
   "id": "403318f9",
   "metadata": {},
   "outputs": [
    {
     "data": {
      "text/plain": [
       "Dataset:     C\n",
       "Media type:  image\n",
       "Num samples: 2980\n",
       "Sample fields:\n",
       "    id:             fiftyone.core.fields.ObjectIdField\n",
       "    filepath:       fiftyone.core.fields.StringField\n",
       "    tags:           fiftyone.core.fields.ListField(fiftyone.core.fields.StringField)\n",
       "    metadata:       fiftyone.core.fields.EmbeddedDocumentField(fiftyone.core.metadata.ImageMetadata)\n",
       "    max_similarity: fiftyone.core.fields.FloatField\n",
       "View stages:\n",
       "    1. Match(filter={'$expr': {'$gt': [...]}})"
      ]
     },
     "execution_count": 13,
     "metadata": {},
     "output_type": "execute_result"
    }
   ],
   "source": [
    "from fiftyone import ViewField as F\n",
    "\n",
    "dataset.match(F(\"max_similarity\")>0.95)"
   ]
  },
  {
   "cell_type": "code",
   "execution_count": 14,
   "id": "b38cd1ae",
   "metadata": {},
   "outputs": [],
   "source": [
    "id_map = [s.id for s in dataset.select_fields([\"id\"])]"
   ]
  },
  {
   "cell_type": "code",
   "execution_count": 15,
   "id": "48c90f9f",
   "metadata": {},
   "outputs": [
    {
     "name": "stdout",
     "output_type": "stream",
     "text": [
      "3000\n"
     ]
    }
   ],
   "source": [
    "thresh = 0.95\n",
    "samples_to_remove = set()\n",
    "samples_to_keep = set()\n",
    "\n",
    "for idx, sample in enumerate(dataset):\n",
    "    if sample.id not in samples_to_remove:\n",
    "        # Keep the first instance of two duplicates\n",
    "        samples_to_keep.add(sample.id)\n",
    "        \n",
    "        dup_idxs = np.where(similarity_matrix[idx] > thresh)[0]\n",
    "        for dup in dup_idxs:\n",
    "            # We kept the first instance so remove all other duplicates\n",
    "            samples_to_remove.add(id_map[dup])\n",
    "\n",
    "        if len(dup_idxs) > 0:\n",
    "            sample.tags.append(\"has_duplicates\")\n",
    "            sample.save()\n",
    "\n",
    "    else:\n",
    "        sample.tags.append(\"duplicate\")\n",
    "        sample.save()\n",
    "\n",
    "print(len(samples_to_remove) + len(samples_to_keep))\n",
    "\n",
    "# If you want to remove the samples from the dataset entirely, uncomment the following line\n",
    "# dataset.remove_samples(list(samples_to_remove))"
   ]
  },
  {
   "cell_type": "code",
   "execution_count": 17,
   "id": "0bc94301",
   "metadata": {},
   "outputs": [
    {
     "data": {
      "text/html": [
       "\n",
       "        <iframe\n",
       "            width=\"100%\"\n",
       "            height=\"800\"\n",
       "            src=\"http://localhost:5151/?notebook=True&subscription=34d06cef-dfc0-4ea5-8eae-a56b5d90971c\"\n",
       "            frameborder=\"0\"\n",
       "            allowfullscreen\n",
       "            \n",
       "        ></iframe>\n",
       "        "
      ],
      "text/plain": [
       "<IPython.lib.display.IFrame at 0x293047220>"
      ]
     },
     "metadata": {},
     "output_type": "display_data"
    }
   ],
   "source": [
    "session = fo.launch_app(dataset)"
   ]
  },
  {
   "cell_type": "code",
   "execution_count": 16,
   "id": "05dda5dd",
   "metadata": {},
   "outputs": [
    {
     "ename": "NameError",
     "evalue": "name 'session' is not defined",
     "output_type": "error",
     "traceback": [
      "\u001b[0;31m---------------------------------------------------------------------------\u001b[0m",
      "\u001b[0;31mNameError\u001b[0m                                 Traceback (most recent call last)",
      "Cell \u001b[0;32mIn [16], line 1\u001b[0m\n\u001b[0;32m----> 1\u001b[0m session\u001b[38;5;241m.\u001b[39mshow()\n",
      "\u001b[0;31mNameError\u001b[0m: name 'session' is not defined"
     ]
    }
   ],
   "source": [
    "session.show()"
   ]
  },
  {
   "cell_type": "code",
   "execution_count": null,
   "id": "98cbebbd",
   "metadata": {},
   "outputs": [],
   "source": [
    "view = dataset.match_tags([\"has_duplicates\",\"duplicate\"])\n",
    "thresh = 0.92\n",
    "\n",
    "for idx, sample in enumerate(dataset):\n",
    "    if sample.id in view:\n",
    "        dup_idxs = np.where(similarity_matrix[idx] > thresh)[0]\n",
    "        dup_splits = []\n",
    "        dup_labels = {sample.ground_truth.label}\n",
    "        for dup in dup_idxs:\n",
    "            dup_sample = dataset[id_map[dup]]\n",
    "            dup_split = \"test\" if \"test\" in dup_sample.tags else \"train\"\n",
    "            dup_splits.append(dup_split)\n",
    "            dup_labels.add(dup_sample.ground_truth.label)\n",
    "            \n",
    "        sample[\"dup_splits\"] = dup_splits\n",
    "        sample[\"dup_labels\"] = list(dup_labels)\n",
    "        sample.save()"
   ]
  },
  {
   "cell_type": "code",
   "execution_count": null,
   "id": "562dca4a",
   "metadata": {},
   "outputs": [],
   "source": [
    "view.first()"
   ]
  },
  {
   "cell_type": "code",
   "execution_count": null,
   "id": "7a58c747",
   "metadata": {},
   "outputs": [],
   "source": [
    "from fiftyone import ViewField as F"
   ]
  },
  {
   "cell_type": "code",
   "execution_count": null,
   "id": "f00b0919",
   "metadata": {},
   "outputs": [],
   "source": []
  }
 ],
 "metadata": {
  "kernelspec": {
   "display_name": "Python 3 (ipykernel)",
   "language": "python",
   "name": "python3"
  },
  "language_info": {
   "codemirror_mode": {
    "name": "ipython",
    "version": 3
   },
   "file_extension": ".py",
   "mimetype": "text/x-python",
   "name": "python",
   "nbconvert_exporter": "python",
   "pygments_lexer": "ipython3",
   "version": "3.10.6"
  },
  "toc": {
   "base_numbering": 1,
   "nav_menu": {},
   "number_sections": true,
   "sideBar": true,
   "skip_h1_title": false,
   "title_cell": "Table of Contents",
   "title_sidebar": "Contents",
   "toc_cell": false,
   "toc_position": {},
   "toc_section_display": true,
   "toc_window_display": false
  }
 },
 "nbformat": 4,
 "nbformat_minor": 5
}
