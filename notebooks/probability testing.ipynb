{
 "cells": [
  {
   "cell_type": "code",
   "execution_count": 1,
   "id": "35f38e20",
   "metadata": {},
   "outputs": [],
   "source": [
    "import os\n",
    "import cv2\n",
    "import matplotlib.pyplot as plt"
   ]
  },
  {
   "cell_type": "code",
   "execution_count": 2,
   "id": "35edf2c8",
   "metadata": {},
   "outputs": [],
   "source": [
    "directory = 'processed_images/all_images'"
   ]
  },
  {
   "cell_type": "code",
   "execution_count": 7,
   "id": "45060051",
   "metadata": {},
   "outputs": [
    {
     "name": "stdout",
     "output_type": "stream",
     "text": [
      "Getting images of A:\n"
     ]
    },
    {
     "name": "stderr",
     "output_type": "stream",
     "text": [
      "[ WARN:0@58.387] global loadsave.cpp:244 findDecoder imread_('processed_images/all_images/A/I'): can't open/read file: check file path/integrity\n",
      "[ WARN:0@58.387] global loadsave.cpp:244 findDecoder imread_('processed_images/all_images/A/m'): can't open/read file: check file path/integrity\n",
      "[ WARN:0@58.388] global loadsave.cpp:244 findDecoder imread_('processed_images/all_images/A/a'): can't open/read file: check file path/integrity\n",
      "[ WARN:0@58.389] global loadsave.cpp:244 findDecoder imread_('processed_images/all_images/A/g'): can't open/read file: check file path/integrity\n",
      "[ WARN:0@58.389] global loadsave.cpp:244 findDecoder imread_('processed_images/all_images/A/e'): can't open/read file: check file path/integrity\n",
      "[ WARN:0@58.389] global loadsave.cpp:244 findDecoder imread_('processed_images/all_images/A/_'): can't open/read file: check file path/integrity\n",
      "[ WARN:0@58.389] global loadsave.cpp:244 findDecoder imread_('processed_images/all_images/A/A'): can't open/read file: check file path/integrity\n",
      "[ WARN:0@58.389] global loadsave.cpp:244 findDecoder imread_('processed_images/all_images/A/4'): can't open/read file: check file path/integrity\n",
      "[ WARN:0@58.389] global loadsave.cpp:244 findDecoder imread_('processed_images/all_images/A/6'): can't open/read file: check file path/integrity\n",
      "[ WARN:0@58.390] global loadsave.cpp:244 findDecoder imread_('processed_images/all_images/A/j'): can't open/read file: check file path/integrity\n",
      "[ WARN:0@58.390] global loadsave.cpp:244 findDecoder imread_('processed_images/all_images/A/p'): can't open/read file: check file path/integrity\n",
      "[ WARN:0@58.390] global loadsave.cpp:244 findDecoder imread_('processed_images/all_images/A/g'): can't open/read file: check file path/integrity\n"
     ]
    }
   ],
   "source": [
    "images = []\n",
    "labels = []\n",
    "\n",
    "directory_list = sorted(os.listdir(directory))\n",
    "for i in range(len(directory_list))[:1]:\n",
    "    print(f\"Getting images of {directory_list[i]}:\")\n",
    "    for image in os.listdir(directory + \"/\" + directory_list[i])[1]:\n",
    "        img = cv2.imread(directory + \"/\" + directory_list[i] + \"/\" + image)\n",
    "        images.append(img)\n",
    "        labels.append(directory_list[i])"
   ]
  },
  {
   "cell_type": "code",
   "execution_count": 9,
   "id": "1a7440e2",
   "metadata": {},
   "outputs": [
    {
     "data": {
      "text/plain": [
       "27"
      ]
     },
     "execution_count": 9,
     "metadata": {},
     "output_type": "execute_result"
    }
   ],
   "source": [
    "len(directory_list)"
   ]
  },
  {
   "cell_type": "code",
   "execution_count": 4,
   "id": "7d55e120",
   "metadata": {},
   "outputs": [
    {
     "ename": "AttributeError",
     "evalue": "module 'matplotlib.pyplot' has no attribute 'imgshow'",
     "output_type": "error",
     "traceback": [
      "\u001b[0;31m---------------------------------------------------------------------------\u001b[0m",
      "\u001b[0;31mAttributeError\u001b[0m                            Traceback (most recent call last)",
      "Cell \u001b[0;32mIn [4], line 1\u001b[0m\n\u001b[0;32m----> 1\u001b[0m plt\u001b[38;5;241m.\u001b[39mimgshow(images[\u001b[38;5;241m0\u001b[39m])\n",
      "\u001b[0;31mAttributeError\u001b[0m: module 'matplotlib.pyplot' has no attribute 'imgshow'"
     ]
    }
   ],
   "source": [
    "plt.imgshow(images[0])"
   ]
  },
  {
   "cell_type": "code",
   "execution_count": 11,
   "id": "3538a86b",
   "metadata": {},
   "outputs": [
    {
     "name": "stdout",
     "output_type": "stream",
     "text": [
      "160\n"
     ]
    }
   ],
   "source": [
    "from random import randrange\n",
    "print(randrange(255))"
   ]
  },
  {
   "cell_type": "code",
   "execution_count": 17,
   "id": "9dd42f41",
   "metadata": {},
   "outputs": [
    {
     "data": {
      "text/plain": [
       "[(0, 244, 127),\n",
       " (250, 176, 55),\n",
       " (223, 198, 106),\n",
       " (208, 157, 74),\n",
       " (78, 174, 107)]"
      ]
     },
     "execution_count": 17,
     "metadata": {},
     "output_type": "execute_result"
    }
   ],
   "source": [
    "[(randrange(255), randrange(255), randrange(255)) for _ in range(5)]"
   ]
  },
  {
   "cell_type": "code",
   "execution_count": 18,
   "id": "13f72a97",
   "metadata": {},
   "outputs": [
    {
     "data": {
      "text/plain": [
       "[(5, 191, 110), (33, 129, 220), (216, 156, 59), (217, 227, 1), (152, 164, 190)]"
      ]
     },
     "execution_count": 18,
     "metadata": {},
     "output_type": "execute_result"
    }
   ],
   "source": [
    "[(randrange(255), randrange(255), randrange(255)) for _ in range(5)]"
   ]
  },
  {
   "cell_type": "code",
   "execution_count": null,
   "id": "17f5c6cd",
   "metadata": {},
   "outputs": [],
   "source": []
  }
 ],
 "metadata": {
  "kernelspec": {
   "display_name": "Python 3 (ipykernel)",
   "language": "python",
   "name": "python3"
  },
  "language_info": {
   "codemirror_mode": {
    "name": "ipython",
    "version": 3
   },
   "file_extension": ".py",
   "mimetype": "text/x-python",
   "name": "python",
   "nbconvert_exporter": "python",
   "pygments_lexer": "ipython3",
   "version": "3.10.6"
  },
  "toc": {
   "base_numbering": 1,
   "nav_menu": {},
   "number_sections": true,
   "sideBar": true,
   "skip_h1_title": false,
   "title_cell": "Table of Contents",
   "title_sidebar": "Contents",
   "toc_cell": false,
   "toc_position": {},
   "toc_section_display": true,
   "toc_window_display": false
  }
 },
 "nbformat": 4,
 "nbformat_minor": 5
}
